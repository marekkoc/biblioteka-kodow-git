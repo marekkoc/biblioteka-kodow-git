{
 "cells": [
  {
   "cell_type": "markdown",
   "metadata": {},
   "source": [
    "# Analiza wagi\n",
    "\n",
    "\n",
    "Created: 2021\n",
    "\n",
    "Modified: 2024.11.13"
   ]
  },
  {
   "cell_type": "markdown",
   "metadata": {
    "tags": []
   },
   "source": [
    "### Importy"
   ]
  },
  {
   "cell_type": "code",
   "execution_count": 107,
   "metadata": {},
   "outputs": [],
   "source": [
    "import pandas as pd\n",
    "import numpy as np\n",
    "import seaborn as sns\n",
    "import matplotlib.pyplot as plt"
   ]
  },
  {
   "cell_type": "markdown",
   "metadata": {},
   "source": [
    "### Zmienne globalne, flagi"
   ]
  },
  {
   "cell_type": "code",
   "execution_count": 137,
   "metadata": {},
   "outputs": [],
   "source": [
    "PRINT = False"
   ]
  },
  {
   "cell_type": "markdown",
   "metadata": {
    "tags": []
   },
   "source": [
    "### Formatowanie wyswietlania"
   ]
  },
  {
   "cell_type": "code",
   "execution_count": 108,
   "metadata": {},
   "outputs": [],
   "source": [
    "#pd.options.display('precision', 2)\n",
    "#df.style.format('{:.1f}')\n",
    "#df.style.format({'A': '{:.16f}', 'D': '{:.5f}'})\n",
    "\n",
    "pd.options.display.float_format = \"{:,.2f}\".format"
   ]
  },
  {
   "cell_type": "markdown",
   "metadata": {},
   "source": [
    "### Wczytani pliku z danymi"
   ]
  },
  {
   "cell_type": "code",
   "execution_count": 109,
   "metadata": {},
   "outputs": [],
   "source": [
    "#pth = '/home/marek/Dropbox/priv/codzienne/waga.ods'\n",
    "pth = '20241113_waga.xlsx'\n",
    "#dfs = pd.read_excel(pth, sheet_name='2021', engine='openpyxl')"
   ]
  },
  {
   "cell_type": "code",
   "execution_count": 111,
   "metadata": {},
   "outputs": [],
   "source": [
    "df = pd.read_excel(pth, sheet_name=year_list, index_col=0)"
   ]
  },
  {
   "cell_type": "markdown",
   "metadata": {
    "jp-MarkdownHeadingCollapsed": true,
    "tags": []
   },
   "source": [
    "#### Generowanie etykiet z latami"
   ]
  },
  {
   "cell_type": "code",
   "execution_count": 110,
   "metadata": {},
   "outputs": [
    {
     "name": "stdout",
     "output_type": "stream",
     "text": [
      "List of yeares:\n",
      "\t['2024', '2023', '2022', '2021', '2020', '2019', '2018', '2017']\n"
     ]
    }
   ],
   "source": [
    "year_list = [str(y) for y in range(2017,2025)]\n",
    "year_list.sort(reverse=True)\n",
    "print(f\"List of yeares:\\n\\t{year_list}\")"
   ]
  },
  {
   "cell_type": "markdown",
   "metadata": {},
   "source": [
    "### Wydzielenie poszczególnych formularzy"
   ]
  },
  {
   "cell_type": "code",
   "execution_count": 112,
   "metadata": {},
   "outputs": [],
   "source": [
    "df24 = df['2024']\n",
    "df23 = df['2023']\n",
    "df22 = df['2022']\n",
    "df21 = df['2021']\n",
    "df20 = df['2020']\n",
    "df19 = df['2019']\n",
    "df18 = df['2018']\n",
    "df17 = df['2017']"
   ]
  },
  {
   "cell_type": "markdown",
   "metadata": {},
   "source": [
    "#### Wyswietlanie"
   ]
  },
  {
   "cell_type": "code",
   "execution_count": 138,
   "metadata": {},
   "outputs": [],
   "source": [
    "if PRINT: df24.head()"
   ]
  },
  {
   "cell_type": "markdown",
   "metadata": {
    "tags": []
   },
   "source": [
    "### Ograniczenie wczytanych danych do danych wlasciwych"
   ]
  },
  {
   "cell_type": "code",
   "execution_count": 114,
   "metadata": {},
   "outputs": [],
   "source": [
    "df24 = df24.iloc[:31,:12]\n",
    "df23 = df22.iloc[:31,:12]\n",
    "df22 = df23.iloc[:31,:12]\n",
    "df21 = df21.iloc[:31,:12]\n",
    "df20 = df20.iloc[:31,:12]\n",
    "df19 = df19.iloc[:31,:12]\n",
    "df18 = df18.iloc[:31,:12]\n",
    "df17 = df17.iloc[:31,:12]"
   ]
  },
  {
   "cell_type": "markdown",
   "metadata": {},
   "source": [
    "### Kolumna Rok"
   ]
  },
  {
   "cell_type": "code",
   "execution_count": 116,
   "metadata": {},
   "outputs": [],
   "source": [
    "df24.insert(0,'rok', 2024)\n",
    "df23.insert(0,'rok', 2023)\n",
    "df22.insert(0,'rok', 2022)\n",
    "df21.insert(0,'rok', 2021)\n",
    "df20.insert(0,'rok', 2020)\n",
    "df19.insert(0,'rok', 2019)\n",
    "df18.insert(0,'rok', 2018)\n",
    "df17.insert(0,'rok', 2017)"
   ]
  },
  {
   "cell_type": "markdown",
   "metadata": {},
   "source": [
    "### Polaczenie tabel w jedna duza tabele"
   ]
  },
  {
   "cell_type": "code",
   "execution_count": 140,
   "metadata": {},
   "outputs": [],
   "source": [
    "df = pd.concat([df24, df23, df22, df21, df20, df19, df18, df17], axis=0)"
   ]
  },
  {
   "cell_type": "markdown",
   "metadata": {
    "jp-MarkdownHeadingCollapsed": true,
    "tags": []
   },
   "source": [
    "#### PRINT"
   ]
  },
  {
   "cell_type": "code",
   "execution_count": 141,
   "metadata": {},
   "outputs": [],
   "source": [
    "if PRINT:\n",
    "    print(df.shape)\n",
    "    df.head(2)"
   ]
  },
  {
   "cell_type": "markdown",
   "metadata": {},
   "source": [
    "### Zamiana przecinkow na kropki"
   ]
  },
  {
   "cell_type": "code",
   "execution_count": 118,
   "metadata": {},
   "outputs": [],
   "source": [
    "# Zamiana przecinka na kropke\n",
    "df = df.replace(',', '.', regex=True)"
   ]
  },
  {
   "cell_type": "markdown",
   "metadata": {},
   "source": [
    "### Zamiana danych typu ```object``` na dane ```float``` "
   ]
  },
  {
   "cell_type": "code",
   "execution_count": 119,
   "metadata": {},
   "outputs": [],
   "source": [
    "# Dla wszystkich kolumn, które powinny być numeryczne\n",
    "df = df.apply(pd.to_numeric, errors='coerce')"
   ]
  },
  {
   "cell_type": "markdown",
   "metadata": {},
   "source": [
    "#### Pomocnicze"
   ]
  },
  {
   "cell_type": "code",
   "execution_count": 120,
   "metadata": {},
   "outputs": [],
   "source": [
    "dfs = [df24, df23, df22, df21, df20, df19, df18, df17]"
   ]
  },
  {
   "cell_type": "markdown",
   "metadata": {},
   "source": [
    "### Zmiana nazw kolumn na rok i miesiace"
   ]
  },
  {
   "cell_type": "code",
   "execution_count": 153,
   "metadata": {},
   "outputs": [],
   "source": [
    "cols = ['rok','styczen', 'luty', 'marzec', 'kwiecien', 'maj', 'czerwiec',\n",
    "        'lipiec', 'sierpien', 'wrzesien', 'pazdziernik', 'listopad', 'grudzien']\n",
    "df.cols = cols"
   ]
  },
  {
   "cell_type": "markdown",
   "metadata": {
    "tags": []
   },
   "source": [
    "#### Print"
   ]
  },
  {
   "cell_type": "code",
   "execution_count": 154,
   "metadata": {},
   "outputs": [],
   "source": [
    "if PRINT:\n",
    "    print(df.shape)\n",
    "    df.head(2)"
   ]
  },
  {
   "cell_type": "markdown",
   "metadata": {},
   "source": [
    "---"
   ]
  },
  {
   "cell_type": "markdown",
   "metadata": {},
   "source": [
    "## Zapis do pliu ```CSV````"
   ]
  },
  {
   "cell_type": "code",
   "execution_count": 155,
   "metadata": {},
   "outputs": [],
   "source": [
    "df.to_csv(\"waga-2017-2024.csv\", header=True)"
   ]
  },
  {
   "cell_type": "code",
   "execution_count": null,
   "metadata": {},
   "outputs": [],
   "source": []
  },
  {
   "cell_type": "markdown",
   "metadata": {},
   "source": [
    "---"
   ]
  },
  {
   "cell_type": "markdown",
   "metadata": {},
   "source": [
    "### Grupownie po latach"
   ]
  },
  {
   "cell_type": "code",
   "execution_count": 123,
   "metadata": {},
   "outputs": [
    {
     "data": {
      "text/html": [
       "<div>\n",
       "<style scoped>\n",
       "    .dataframe tbody tr th:only-of-type {\n",
       "        vertical-align: middle;\n",
       "    }\n",
       "\n",
       "    .dataframe tbody tr th {\n",
       "        vertical-align: top;\n",
       "    }\n",
       "\n",
       "    .dataframe thead th {\n",
       "        text-align: right;\n",
       "    }\n",
       "</style>\n",
       "<table border=\"1\" class=\"dataframe\">\n",
       "  <thead>\n",
       "    <tr style=\"text-align: right;\">\n",
       "      <th></th>\n",
       "      <th>styczen</th>\n",
       "      <th>luty</th>\n",
       "      <th>marzec</th>\n",
       "      <th>kwiecien</th>\n",
       "      <th>maj</th>\n",
       "      <th>czerwiec</th>\n",
       "      <th>lipiec</th>\n",
       "      <th>sierpien</th>\n",
       "      <th>wrzesien</th>\n",
       "      <th>pazdziernik</th>\n",
       "      <th>listopad</th>\n",
       "      <th>grudzien</th>\n",
       "    </tr>\n",
       "    <tr>\n",
       "      <th>rok</th>\n",
       "      <th></th>\n",
       "      <th></th>\n",
       "      <th></th>\n",
       "      <th></th>\n",
       "      <th></th>\n",
       "      <th></th>\n",
       "      <th></th>\n",
       "      <th></th>\n",
       "      <th></th>\n",
       "      <th></th>\n",
       "      <th></th>\n",
       "      <th></th>\n",
       "    </tr>\n",
       "  </thead>\n",
       "  <tbody>\n",
       "    <tr>\n",
       "      <th>2017</th>\n",
       "      <td>0.00</td>\n",
       "      <td>NaN</td>\n",
       "      <td>NaN</td>\n",
       "      <td>NaN</td>\n",
       "      <td>84.84</td>\n",
       "      <td>84.40</td>\n",
       "      <td>83.61</td>\n",
       "      <td>82.73</td>\n",
       "      <td>80.93</td>\n",
       "      <td>79.69</td>\n",
       "      <td>80.06</td>\n",
       "      <td>81.84</td>\n",
       "    </tr>\n",
       "    <tr>\n",
       "      <th>2018</th>\n",
       "      <td>82.76</td>\n",
       "      <td>83.11</td>\n",
       "      <td>84.00</td>\n",
       "      <td>84.36</td>\n",
       "      <td>84.95</td>\n",
       "      <td>84.46</td>\n",
       "      <td>83.78</td>\n",
       "      <td>82.98</td>\n",
       "      <td>82.45</td>\n",
       "      <td>80.90</td>\n",
       "      <td>80.35</td>\n",
       "      <td>78.79</td>\n",
       "    </tr>\n",
       "    <tr>\n",
       "      <th>2019</th>\n",
       "      <td>77.37</td>\n",
       "      <td>75.98</td>\n",
       "      <td>75.24</td>\n",
       "      <td>74.83</td>\n",
       "      <td>73.60</td>\n",
       "      <td>72.13</td>\n",
       "      <td>70.58</td>\n",
       "      <td>70.64</td>\n",
       "      <td>70.41</td>\n",
       "      <td>69.67</td>\n",
       "      <td>67.73</td>\n",
       "      <td>67.77</td>\n",
       "    </tr>\n",
       "    <tr>\n",
       "      <th>2020</th>\n",
       "      <td>67.92</td>\n",
       "      <td>67.57</td>\n",
       "      <td>67.77</td>\n",
       "      <td>66.93</td>\n",
       "      <td>67.33</td>\n",
       "      <td>68.32</td>\n",
       "      <td>68.77</td>\n",
       "      <td>68.59</td>\n",
       "      <td>69.04</td>\n",
       "      <td>69.29</td>\n",
       "      <td>69.77</td>\n",
       "      <td>70.27</td>\n",
       "    </tr>\n",
       "    <tr>\n",
       "      <th>2021</th>\n",
       "      <td>71.17</td>\n",
       "      <td>71.34</td>\n",
       "      <td>71.43</td>\n",
       "      <td>72.10</td>\n",
       "      <td>71.40</td>\n",
       "      <td>70.56</td>\n",
       "      <td>69.77</td>\n",
       "      <td>68.57</td>\n",
       "      <td>68.98</td>\n",
       "      <td>70.16</td>\n",
       "      <td>70.99</td>\n",
       "      <td>72.13</td>\n",
       "    </tr>\n",
       "    <tr>\n",
       "      <th>2022</th>\n",
       "      <td>72.55</td>\n",
       "      <td>73.25</td>\n",
       "      <td>74.50</td>\n",
       "      <td>74.97</td>\n",
       "      <td>74.60</td>\n",
       "      <td>73.66</td>\n",
       "      <td>74.54</td>\n",
       "      <td>74.89</td>\n",
       "      <td>75.14</td>\n",
       "      <td>74.35</td>\n",
       "      <td>72.08</td>\n",
       "      <td>72.43</td>\n",
       "    </tr>\n",
       "    <tr>\n",
       "      <th>2023</th>\n",
       "      <td>72.55</td>\n",
       "      <td>73.25</td>\n",
       "      <td>74.50</td>\n",
       "      <td>74.97</td>\n",
       "      <td>74.60</td>\n",
       "      <td>73.66</td>\n",
       "      <td>74.54</td>\n",
       "      <td>74.89</td>\n",
       "      <td>75.14</td>\n",
       "      <td>74.35</td>\n",
       "      <td>72.08</td>\n",
       "      <td>72.43</td>\n",
       "    </tr>\n",
       "    <tr>\n",
       "      <th>2024</th>\n",
       "      <td>73.19</td>\n",
       "      <td>72.50</td>\n",
       "      <td>71.91</td>\n",
       "      <td>72.33</td>\n",
       "      <td>71.92</td>\n",
       "      <td>74.00</td>\n",
       "      <td>73.51</td>\n",
       "      <td>73.21</td>\n",
       "      <td>74.59</td>\n",
       "      <td>74.17</td>\n",
       "      <td>73.62</td>\n",
       "      <td>0.00</td>\n",
       "    </tr>\n",
       "  </tbody>\n",
       "</table>\n",
       "</div>"
      ],
      "text/plain": [
       "      styczen  luty  marzec  kwiecien   maj  czerwiec  lipiec  sierpien  \\\n",
       "rok                                                                       \n",
       "2017     0.00   NaN     NaN       NaN 84.84     84.40   83.61     82.73   \n",
       "2018    82.76 83.11   84.00     84.36 84.95     84.46   83.78     82.98   \n",
       "2019    77.37 75.98   75.24     74.83 73.60     72.13   70.58     70.64   \n",
       "2020    67.92 67.57   67.77     66.93 67.33     68.32   68.77     68.59   \n",
       "2021    71.17 71.34   71.43     72.10 71.40     70.56   69.77     68.57   \n",
       "2022    72.55 73.25   74.50     74.97 74.60     73.66   74.54     74.89   \n",
       "2023    72.55 73.25   74.50     74.97 74.60     73.66   74.54     74.89   \n",
       "2024    73.19 72.50   71.91     72.33 71.92     74.00   73.51     73.21   \n",
       "\n",
       "      wrzesien  pazdziernik  listopad  grudzien  \n",
       "rok                                              \n",
       "2017     80.93        79.69     80.06     81.84  \n",
       "2018     82.45        80.90     80.35     78.79  \n",
       "2019     70.41        69.67     67.73     67.77  \n",
       "2020     69.04        69.29     69.77     70.27  \n",
       "2021     68.98        70.16     70.99     72.13  \n",
       "2022     75.14        74.35     72.08     72.43  \n",
       "2023     75.14        74.35     72.08     72.43  \n",
       "2024     74.59        74.17     73.62      0.00  "
      ]
     },
     "execution_count": 123,
     "metadata": {},
     "output_type": "execute_result"
    }
   ],
   "source": [
    "df_grouped = df.groupby('rok').mean()\n",
    "#mn.replace(0, np.NaN, inplace=True)\n",
    "df_grouped.head(9)"
   ]
  },
  {
   "cell_type": "code",
   "execution_count": 124,
   "metadata": {},
   "outputs": [
    {
     "data": {
      "text/plain": [
       "styczen        8\n",
       "luty           7\n",
       "marzec         7\n",
       "kwiecien       7\n",
       "maj            8\n",
       "czerwiec       8\n",
       "lipiec         8\n",
       "sierpien       8\n",
       "wrzesien       8\n",
       "pazdziernik    8\n",
       "listopad       8\n",
       "grudzien       8\n",
       "dtype: int64"
      ]
     },
     "execution_count": 124,
     "metadata": {},
     "output_type": "execute_result"
    }
   ],
   "source": [
    "df_grouped.count()"
   ]
  },
  {
   "cell_type": "code",
   "execution_count": 126,
   "metadata": {},
   "outputs": [
    {
     "data": {
      "image/png": "[encoded data removed]",
      "text/plain": [
       "<Figure size 1400x1200 with 1 Axes>"
      ]
     },
     "metadata": {},
     "output_type": "display_data"
    }
   ],
   "source": [
    "fig,ax = plt.subplots(figsize=(14,12))\n",
    "df_grouped.T.plot.line(ax=ax)\n",
    "ax.grid()"
   ]
  },
  {
   "cell_type": "code",
   "execution_count": null,
   "metadata": {},
   "outputs": [],
   "source": []
  },
  {
   "cell_type": "code",
   "execution_count": null,
   "metadata": {},
   "outputs": [],
   "source": []
  },
  {
   "cell_type": "code",
   "execution_count": null,
   "metadata": {},
   "outputs": [],
   "source": []
  },
  {
   "cell_type": "code",
   "execution_count": null,
   "metadata": {},
   "outputs": [],
   "source": []
  },
  {
   "cell_type": "code",
   "execution_count": 14,
   "metadata": {},
   "outputs": [
    {
     "data": {
      "text/plain": [
       "rok        2,019.00\n",
       "styczen       74.30\n",
       "luty          74.40\n",
       "marzec        74.60\n",
       "kwiecien      74.90\n",
       "maj           75.60\n",
       "czerwiec      76.60\n",
       "lipiec        74.50\n",
       "sierpien      75.20\n",
       "wrzesien      74.70\n",
       "listopad      73.90\n",
       "grudzien      73.90\n",
       "dtype: float64"
      ]
     },
     "execution_count": 14,
     "metadata": {},
     "output_type": "execute_result"
    }
   ],
   "source": [
    "df.mean().round(1)"
   ]
  },
  {
   "cell_type": "code",
   "execution_count": 15,
   "metadata": {},
   "outputs": [
    {
     "data": {
      "image/png": "[encoded data removed]",
      "text/plain": [
       "<Figure size 432x288 with 1 Axes>"
      ]
     },
     "metadata": {
      "needs_background": "light"
     },
     "output_type": "display_data"
    }
   ],
   "source": [
    "p = df.mean().plot()\n",
    "p.grid(True)\n",
    "tit = p.set_title('Average weight')"
   ]
  },
  {
   "cell_type": "code",
   "execution_count": 18,
   "metadata": {},
   "outputs": [
    {
     "data": {
      "text/plain": [
       "<AxesSubplot:>"
      ]
     },
     "execution_count": 18,
     "metadata": {},
     "output_type": "execute_result"
    },
    {
     "data": {
      "image/png": "[encoded data removed]",
      "text/plain": [
       "<Figure size 432x288 with 1 Axes>"
      ]
     },
     "metadata": {
      "needs_background": "light"
     },
     "output_type": "display_data"
    }
   ],
   "source": [
    "sns.boxplot(data=df)"
   ]
  },
  {
   "cell_type": "code",
   "execution_count": 163,
   "metadata": {},
   "outputs": [],
   "source": [
    "%matplotlib qt"
   ]
  },
  {
   "cell_type": "code",
   "execution_count": 161,
   "metadata": {},
   "outputs": [],
   "source": [
    "matplotlib inline"
   ]
  },
  {
   "cell_type": "code",
   "execution_count": null,
   "metadata": {},
   "outputs": [],
   "source": []
  }
 ],
 "metadata": {
  "kernelspec": {
   "display_name": "py38",
   "language": "python",
   "name": "py38"
  },
  "language_info": {
   "codemirror_mode": {
    "name": "ipython",
    "version": 3
   },
   "file_extension": ".py",
   "mimetype": "text/x-python",
   "name": "python",
   "nbconvert_exporter": "python",
   "pygments_lexer": "ipython3",
   "version": "3.8.20"
  }
 },
 "nbformat": 4,
 "nbformat_minor": 4
}
