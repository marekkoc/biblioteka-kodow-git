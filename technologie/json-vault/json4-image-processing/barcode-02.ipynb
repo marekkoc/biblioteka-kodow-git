{
 "cells": [
  {
   "cell_type": "markdown",
   "metadata": {},
   "source": [
    "# Pporownianie analizy kodu kresowego  z biblioteki z ocr\n",
    "\n",
    "C: 2025.02.10 <br>\n",
    "M: 2025.02.10\n",
    "\n",
    "\n",
    "Copyright (c) 2025 Marek Kocinski\n",
    "\n",
    "Wniosek: OCR właściwie nie działa w odniesienio do rozpoznawania kodu."
   ]
  },
  {
   "cell_type": "code",
   "execution_count": 13,
   "metadata": {},
   "outputs": [],
   "source": [
    "from pyzbar.pyzbar import decode\n",
    "import cv2\n",
    "import numpy\n",
    "import pytesseract\n",
    "from pathlib import Path\n"
   ]
  },
  {
   "cell_type": "code",
   "execution_count": 9,
   "metadata": {},
   "outputs": [],
   "source": [
    "def ocr_barcode_reader(image):\n",
    "    # Przygotowanie obrazu specjalnie pod OCR\n",
    "    gray = cv2.cvtColor(image, cv2.COLOR_BGR2GRAY)\n",
    "    thresh = cv2.threshold(gray, 0, 255, cv2.THRESH_BINARY + cv2.THRESH_OTSU)[1]\n",
    "    \n",
    "    # Użycie OCR\n",
    "    text = pytesseract.image_to_string(thresh, config='--psm 6 digits')\n",
    "    # Oczyszczenie wyniku\n",
    "    barcode = ''.join(filter(str.isdigit, text))\n",
    "    return barcode"
   ]
  },
  {
   "cell_type": "code",
   "execution_count": 10,
   "metadata": {},
   "outputs": [],
   "source": [
    "class AdvancedBarcodeReader:\n",
    "    def __init__(self):\n",
    "        self.decoder = decode\n",
    "        \n",
    "    def read_barcode(self, image):\n",
    "        results = {\n",
    "            'pyzbar': None,\n",
    "            'ocr': None,\n",
    "            'final': None,\n",
    "            'confidence': 0\n",
    "        }\n",
    "        \n",
    "        # Próba odczytu przez pyzbar\n",
    "        try:\n",
    "            decoded = self.decoder(image)\n",
    "            if decoded:\n",
    "                results['pyzbar'] = decoded[0].data.decode('utf-8')\n",
    "        except Exception as e:\n",
    "            print(f\"Pyzbar error: {e}\")\n",
    "            \n",
    "        # Próba odczytu przez OCR\n",
    "        try:\n",
    "            results['ocr'] = ocr_barcode_reader(image)\n",
    "        except Exception as e:\n",
    "            print(f\"OCR error: {e}\")\n",
    "            \n",
    "        # Logika walidacji i porównania wyników\n",
    "        if results['pyzbar'] and results['ocr']:\n",
    "            if results['pyzbar'] == results['ocr']:\n",
    "                results['final'] = results['pyzbar']\n",
    "                results['confidence'] = 1.0\n",
    "            else:\n",
    "                # Sprawdzenie który wynik jest poprawny przez walidację EAN\n",
    "                if self.validate_ean13(results['pyzbar']):\n",
    "                    results['final'] = results['pyzbar']\n",
    "                    results['confidence'] = 0.9\n",
    "                elif self.validate_ean13(results['ocr']):\n",
    "                    results['final'] = results['ocr']\n",
    "                    results['confidence'] = 0.8\n",
    "        elif results['pyzbar']:\n",
    "            results['final'] = results['pyzbar']\n",
    "            results['confidence'] = 0.7\n",
    "        elif results['ocr']:\n",
    "            results['final'] = results['ocr']\n",
    "            results['confidence'] = 0.6\n",
    "            \n",
    "        return results\n",
    "\n",
    "    def validate_ean13(self, code):\n",
    "        # implementacja walidacji EAN-13\n",
    "        pass"
   ]
  },
  {
   "cell_type": "code",
   "execution_count": 11,
   "metadata": {},
   "outputs": [],
   "source": [
    "barcodereader= AdvancedBarcodeReader()"
   ]
  },
  {
   "cell_type": "code",
   "execution_count": 14,
   "metadata": {},
   "outputs": [],
   "source": [
    "current_dir = Path.cwd()\n",
    "imgs = current_dir.parent / 'produkty'"
   ]
  },
  {
   "cell_type": "code",
   "execution_count": 16,
   "metadata": {},
   "outputs": [
    {
     "name": "stdout",
     "output_type": "stream",
     "text": [
      "{'pyzbar': '7039010082402', 'ocr': '30174621368150085828392454840533703901008240208003300571114114908', 'final': None, 'confidence': 0}\n",
      "{'pyzbar': 'http://campodelorca.com/', 'ocr': '4343402508111462640004525022004428374227', 'final': None, 'confidence': 0}\n",
      "{'pyzbar': '7023026089302', 'ocr': '013725840281110704534100910028806147930409093093399651702302608930257712', 'final': None, 'confidence': 0}\n",
      "{'pyzbar': None, 'ocr': '710091045060180990424955111125139149000679075913484002000484002000832172', 'final': '710091045060180990424955111125139149000679075913484002000484002000832172', 'confidence': 0.6}\n",
      "{'pyzbar': None, 'ocr': '944342208779000424743', 'final': '944342208779000424743', 'confidence': 0.6}\n",
      "{'pyzbar': '7039010082792', 'ocr': '43909097182206279234703901008279212841745306', 'final': None, 'confidence': 0}\n",
      "{'pyzbar': 'https://polan.pl/en/recipes', 'ocr': '47040090702400194000805324084886000058256398989800983094590100837', 'final': None, 'confidence': 0}\n",
      "{'pyzbar': '7038010001642', 'ocr': '25094410094277206947936900901514120502057911159871191599714516911404564092414014047147709010', 'final': None, 'confidence': 0}\n",
      "{'pyzbar': '7032069732007', 'ocr': '464544431401000126426060504703206973200753945', 'final': None, 'confidence': 0}\n",
      "{'pyzbar': '7048840005468', 'ocr': '1700928355384401003037227904800918997590971980030338449019130164041710710488400054681000', 'final': None, 'confidence': 0}\n",
      "{'pyzbar': '7038010054488', 'ocr': '422014708701', 'final': None, 'confidence': 0}\n",
      "{'pyzbar': '4002359021367', 'ocr': '7240095004590970134', 'final': None, 'confidence': 0}\n",
      "{'pyzbar': 'https://polan.pl/en/recipes', 'ocr': '474771007491890710240047444708420045320044432553939398607510088093447', 'final': None, 'confidence': 0}\n",
      "{'pyzbar': '7032069719510', 'ocr': '3257225374523162946004232', 'final': None, 'confidence': 0}\n",
      "{'pyzbar': None, 'ocr': '4147100260191880930419935016149241391430679075913984001200084002000483730', 'final': '4147100260191880930419935016149241391430679075913984001200084002000483730', 'confidence': 0.6}\n",
      "{'pyzbar': '8437009466728', 'ocr': '51731151201491390911090900920420002373054126108220831501708816128477009', 'final': None, 'confidence': 0}\n",
      "{'pyzbar': '7039010082426', 'ocr': '720006056181048255813807590101082426033005', 'final': None, 'confidence': 0}\n"
     ]
    }
   ],
   "source": [
    "for img in imgs.glob(\"*.JPEG\"):\n",
    "    image = cv2.imread(img)\n",
    "    res = barcodereader.read_barcode(image)\n",
    "    print(res)\n"
   ]
  },
  {
   "cell_type": "code",
   "execution_count": null,
   "metadata": {},
   "outputs": [],
   "source": [
    "barcodereader."
   ]
  },
  {
   "cell_type": "code",
   "execution_count": null,
   "metadata": {},
   "outputs": [],
   "source": []
  },
  {
   "cell_type": "code",
   "execution_count": null,
   "metadata": {},
   "outputs": [],
   "source": []
  },
  {
   "cell_type": "code",
   "execution_count": null,
   "metadata": {},
   "outputs": [],
   "source": []
  }
 ],
 "metadata": {
  "kernelspec": {
   "display_name": "text-rec-py311",
   "language": "python",
   "name": "python3"
  },
  "language_info": {
   "codemirror_mode": {
    "name": "ipython",
    "version": 3
   },
   "file_extension": ".py",
   "mimetype": "text/x-python",
   "name": "python",
   "nbconvert_exporter": "python",
   "pygments_lexer": "ipython3",
   "version": "3.11.11"
  }
 },
 "nbformat": 4,
 "nbformat_minor": 2
}
