{
 "cells": [
  {
   "cell_type": "markdown",
   "metadata": {},
   "source": [
    "# Algorymt do rozpoznawania obrazów etykiet \n",
    "\n",
    "C: 20250.02.10 <br>\n",
    "M: 20250.02.10\n",
    "\n",
    "\n",
    "Copyright (c) 2025 Marek Kocinski"
   ]
  },
  {
   "cell_type": "markdown",
   "metadata": {},
   "source": [
    "### Import bibliotek\n"
   ]
  },
  {
   "cell_type": "code",
   "execution_count": 5,
   "metadata": {},
   "outputs": [],
   "source": [
    "import cv2\n",
    "import pytesseract\n",
    "import json\n",
    "from pathlib import Path\n",
    "import numpy as np\n",
    "from PIL import Image\n",
    "import easyocr\n",
    "import json"
   ]
  },
  {
   "cell_type": "markdown",
   "metadata": {},
   "source": []
  },
  {
   "cell_type": "code",
   "execution_count": 6,
   "metadata": {},
   "outputs": [],
   "source": [
    "cwd = Path.cwd()\n",
    "imgs = cwd.parent / 'produkty'"
   ]
  },
  {
   "cell_type": "code",
   "execution_count": 7,
   "metadata": {},
   "outputs": [
    {
     "data": {
      "text/plain": [
       "['IMG_4389.JPEG',\n",
       " '7048840005468.json',\n",
       " 'IMG_4382.JPEG',\n",
       " 'IMG_4392.JPEG',\n",
       " 'IMG_4381.JPEG',\n",
       " 'IMG_4390.JPEG',\n",
       " 'serek-screen.png',\n",
       " 'IMG_4385.JPEG',\n",
       " 'IMG_4376.JPEG',\n",
       " 'IMG_4383.JPEG',\n",
       " 'IMG_4391.JPEG',\n",
       " '7048840005468.JPEG',\n",
       " 'IMG_4375.JPEG',\n",
       " 'IMG_4379.JPEG',\n",
       " 'IMG_4377.JPEG',\n",
       " 'IMG_4387.JPEG',\n",
       " 'IMG_4380.JPEG',\n",
       " 'IMG_4388.JPEG',\n",
       " 'IMG_4384.JPEG']"
      ]
     },
     "execution_count": 7,
     "metadata": {},
     "output_type": "execute_result"
    }
   ],
   "source": [
    "pliki = [p.name for p in imgs.glob('*.*')]\n",
    "pliki"
   ]
  },
  {
   "cell_type": "code",
   "execution_count": null,
   "metadata": {},
   "outputs": [],
   "source": []
  }
 ],
 "metadata": {
  "kernelspec": {
   "display_name": "text-rec-py311",
   "language": "python",
   "name": "python3"
  },
  "language_info": {
   "codemirror_mode": {
    "name": "ipython",
    "version": 3
   },
   "file_extension": ".py",
   "mimetype": "text/x-python",
   "name": "python",
   "nbconvert_exporter": "python",
   "pygments_lexer": "ipython3",
   "version": "3.11.11"
  }
 },
 "nbformat": 4,
 "nbformat_minor": 2
}
