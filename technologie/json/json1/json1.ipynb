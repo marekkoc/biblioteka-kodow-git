{
 "cells": [
  {
   "cell_type": "markdown",
   "metadata": {},
   "source": [
    "Created: 2025.02.03\n",
    "Modified: 2025.02.04\n",
    "Copyright by MK."
   ]
  },
  {
   "cell_type": "markdown",
   "metadata": {},
   "source": [
    "Importowanie bibliotek"
   ]
  },
  {
   "cell_type": "code",
   "execution_count": 1,
   "metadata": {},
   "outputs": [],
   "source": [
    "import json"
   ]
  },
  {
   "cell_type": "code",
   "execution_count": 2,
   "metadata": {},
   "outputs": [],
   "source": [
    "# Przykład 1: Tworzenie i zapisywanie danych do pliku JSON\n",
    "produkty = {\n",
    "    \"produkty_spozywcze\": [\n",
    "        {\n",
    "            \"nazwa\": \"Jabłko\",\n",
    "            \"kategoria\": \"Owoce\",\n",
    "            \"cena\": 2.50,\n",
    "            \"jednostka\": \"kg\",\n",
    "            \"wartosci_odzywcze\": {\n",
    "                \"kalorie\": 52,\n",
    "                \"bialko\": 0.3,\n",
    "                \"weglowodany\": 14,\n",
    "                \"tluszcze\": 0.2\n",
    "            }\n",
    "        },\n",
    "        {\n",
    "            \"nazwa\": \"Chleb pszenny\",\n",
    "            \"kategoria\": \"Pieczywo\",\n",
    "            \"cena\": 4.99,\n",
    "            \"jednostka\": \"szt\",\n",
    "            \"wartosci_odzywcze\": {\n",
    "                \"kalorie\": 265,\n",
    "                \"bialko\": 8.5,\n",
    "                \"weglowodany\": 49,\n",
    "                \"tluszcze\": 3.2\n",
    "            }\n",
    "        }\n",
    "    ]\n",
    "}"
   ]
  },
  {
   "cell_type": "code",
   "execution_count": 3,
   "metadata": {},
   "outputs": [],
   "source": [
    "# Zapisywanie do pliku\n",
    "with open('produkty.json', 'w', encoding='utf-8') as f:\n",
    "    json.dump(produkty, f, ensure_ascii=False, indent=4)"
   ]
  },
  {
   "cell_type": "code",
   "execution_count": 4,
   "metadata": {},
   "outputs": [],
   "source": [
    "# Przykład 2: Odczytywanie danych z pliku JSON\n",
    "with open('produkty.json', 'r', encoding='utf-8') as f:\n",
    "    wczytane_produkty = json.load(f)"
   ]
  },
  {
   "cell_type": "code",
   "execution_count": 5,
   "metadata": {},
   "outputs": [],
   "source": [
    "# Przykład 3: Dodawanie nowego produktu\n",
    "nowy_produkt = {\n",
    "    \"nazwa\": \"Mleko\",\n",
    "    \"kategoria\": \"Nabiał\",\n",
    "    \"cena\": 3.99,\n",
    "    \"jednostka\": \"l\",\n",
    "    \"wartosci_odzywcze\": {\n",
    "        \"kalorie\": 42,\n",
    "        \"bialko\": 3.4,\n",
    "        \"weglowodany\": 4.8,\n",
    "        \"tluszcze\": 2.0\n",
    "    }\n",
    "}"
   ]
  },
  {
   "cell_type": "code",
   "execution_count": 6,
   "metadata": {},
   "outputs": [],
   "source": [
    "# Zapisywanie zaktualizowanych danych do pliku\n",
    "with open('produkty.json', 'w', encoding='utf-8') as f:\n",
    "    json.dump(wczytane_produkty, f, ensure_ascii=False, indent=4)"
   ]
  },
  {
   "cell_type": "code",
   "execution_count": 7,
   "metadata": {},
   "outputs": [
    {
     "name": "stdout",
     "output_type": "stream",
     "text": [
      "Dane zapisane do pliku produkty.json\n"
     ]
    }
   ],
   "source": [
    "print(\"Dane zapisane do pliku produkty.json\")\n"
   ]
  },
  {
   "cell_type": "code",
   "execution_count": 8,
   "metadata": {},
   "outputs": [],
   "source": [
    "# Przykład 4: Wyszukiwanie produktów\n",
    "def znajdz_produkt(nazwa):\n",
    "    for produkt in wczytane_produkty['produkty_spozywcze']:\n",
    "        if produkt['nazwa'].lower() == nazwa.lower():\n",
    "            return produkt\n",
    "    return None"
   ]
  },
  {
   "cell_type": "code",
   "execution_count": 9,
   "metadata": {},
   "outputs": [],
   "source": [
    " \n",
    "# Przykład 5: Aktualizacja ceny produktu\n",
    "def aktualizuj_cene(nazwa, nowa_cena):\n",
    "    produkt = znajdz_produkt(nazwa)\n",
    "    if produkt:\n",
    "        produkt['cena'] = nowa_cena\n",
    "        return True\n",
    "    return False    "
   ]
  },
  {
   "cell_type": "code",
   "execution_count": 10,
   "metadata": {},
   "outputs": [],
   "source": [
    "# Przykład 6: Usuwanie produktu\n",
    "def usun_produkt(nazwa):\n",
    "    produkt = znajdz_produkt(nazwa)\n",
    "    if produkt:\n",
    "        wczytane_produkty['produkty_spozywcze'].remove(produkt)\n",
    "        with open('produkty.json', 'w', encoding='utf-8') as f:\n",
    "            json.dump(wczytane_produkty, f, ensure_ascii=False, indent=4)\n",
    "        return True\n",
    "    return False"
   ]
  },
  {
   "cell_type": "code",
   "execution_count": 11,
   "metadata": {},
   "outputs": [],
   "source": [
    "# Przykład 7: Wyświetlanie wszystkich produktów\n",
    "def wyswietl_wszystkie_produkty():\n",
    "    for produkt in wczytane_produkty['produkty_spozywcze']:\n",
    "        print(f\"Nazwa: {produkt['nazwa']}, Cena: {produkt['cena']} zł\")"
   ]
  },
  {
   "cell_type": "code",
   "execution_count": 12,
   "metadata": {},
   "outputs": [],
   "source": [
    "# Przykład 8: Wyświetlanie produktów w kategorii    \n",
    "def wyswietl_produkty_w_kategorii(kategoria):\n",
    "    for produkt in wczytane_produkty['produkty_spozywcze']:\n",
    "        if produkt['kategoria'].lower() == kategoria.lower():\n",
    "            print(f\"Nazwa: {produkt['nazwa']}, Cena: {produkt['cena']} zł\")"
   ]
  },
  {
   "cell_type": "code",
   "execution_count": null,
   "metadata": {},
   "outputs": [],
   "source": []
  },
  {
   "cell_type": "code",
   "execution_count": null,
   "metadata": {},
   "outputs": [],
   "source": []
  },
  {
   "cell_type": "code",
   "execution_count": null,
   "metadata": {},
   "outputs": [],
   "source": []
  }
 ],
 "metadata": {
  "kernelspec": {
   "display_name": "Python 3 (ipykernel)",
   "language": "python",
   "name": "python3"
  },
  "language_info": {
   "codemirror_mode": {
    "name": "ipython",
    "version": 3
   },
   "file_extension": ".py",
   "mimetype": "text/x-python",
   "name": "python",
   "nbconvert_exporter": "python",
   "pygments_lexer": "ipython3",
   "version": "3.8.20"
  }
 },
 "nbformat": 4,
 "nbformat_minor": 4
}
