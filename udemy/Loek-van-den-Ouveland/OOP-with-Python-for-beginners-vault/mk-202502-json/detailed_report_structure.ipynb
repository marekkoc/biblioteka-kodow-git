{
 "cells": [
  {
   "cell_type": "code",
   "execution_count": 3,
   "metadata": {},
   "outputs": [],
   "source": [
    "import json"
   ]
  },
  {
   "cell_type": "code",
   "execution_count": 19,
   "metadata": {},
   "outputs": [],
   "source": [
    "# wczytanie pliku json z odpowiednimi parametrami\n",
    "# encoding=\"utf-8\" - obsługa polskich znaków\n",
    "# mode=\"r\" - tryb odczytu (domyślny)\n",
    "\n",
    "f = open(\"detailed_report.json\", encoding=\"utf-8\", mode=\"r\")\n",
    "data = json.load(f)"
   ]
  },
  {
   "cell_type": "code",
   "execution_count": 20,
   "metadata": {},
   "outputs": [
    {
     "name": "stdout",
     "output_type": "stream",
     "text": [
      "report_date: 2025-02-10 15:48\n",
      "company_stats: {'total_employees': 8, 'departments': {'managers': {'count': 1, 'average_salary': 2000.0}, 'station_attendants': {'count': 2, 'average_salary': 1800.0}, 'cooks': {'count': 1, 'average_salary': 2100.0}, 'mechanics': {'count': 4, 'average_salary': 2050.0}}}\n",
      "staff_details: {'managers': [{'name': 'Vera Schmidt', 'salary': 2000, 'contact': {'email': 'vera.schmidt@company.com', 'phone': 'N/A'}}], 'station_attendants': [{'name': 'Chuck Norris', 'salary': 1800, 'contact': {'email': 'chuck.norris@company.com', 'phone': 'N/A'}}, {'name': 'Samantha Carrginton', 'salary': 1800, 'contact': {'email': 'samantha.carrginton@company.com', 'phone': 'N/A'}}], 'cooks': [{'name': 'Roberto Jacketti', 'salary': 2100, 'contact': {'email': 'roberto.jacketti@company.com', 'phone': 'N/A'}}], 'mechanics': [{'name': 'Dave Drebig', 'salary': 2200, 'contact': {'email': 'dave.drebig@company.com', 'phone': 'N/A'}}, {'name': 'Tina River', 'salary': 2300, 'contact': {'email': 'tina.river@company.com', 'phone': 'N/A'}}, {'name': 'Ringo Rama', 'salary': 1900, 'contact': {'email': 'ringo.rama@company.com', 'phone': 'N/A'}}, {'name': 'Chuck Rainey', 'salary': 1800, 'contact': {'email': 'chuck.rainey@company.com', 'phone': 'N/A'}}]}\n"
     ]
    }
   ],
   "source": [
    "for k,v in data.items():\n",
    "    print(f\"{k}: {v} \")"
   ]
  },
  {
   "cell_type": "markdown",
   "metadata": {},
   "source": [
    "1. raport_date\n",
    "\n",
    "1. company_stats -> {}\n",
    "    - total_employees : 8\n",
    "    - departments -> {}\n",
    "        - managers -> {}\n",
    "        - station_attendants -> {}\n",
    "        - cook -> {}\n",
    "        - mechanics -> {}\n",
    "1. staff_details -> {}\n",
    "    - managers -> []\n",
    "    - station_attendants -> []\n",
    "    - cooks -> []\n",
    "    - mechanics -> []"
   ]
  },
  {
   "cell_type": "code",
   "execution_count": 25,
   "metadata": {},
   "outputs": [
    {
     "name": "stdout",
     "output_type": "stream",
     "text": [
      "<class 'dict'>\n",
      "dict_keys(['total_employees', 'departments'])\n",
      "\n",
      "total_employees: 8\n",
      "departments: {'managers': {'count': 1, 'average_salary': 2000.0}, 'station_attendants': {'count': 2, 'average_salary': 1800.0}, 'cooks': {'count': 1, 'average_salary': 2100.0}, 'mechanics': {'count': 4, 'average_salary': 2050.0}}\n"
     ]
    }
   ],
   "source": [
    "company_stats = data[\"company_stats\"]\n",
    "print(type(company_stats)) \n",
    "print(company_stats.keys())\n",
    "print()\n",
    "for k,v in company_stats.items():\n",
    "    print(f\"{k}: {v}\")"
   ]
  },
  {
   "cell_type": "code",
   "execution_count": 26,
   "metadata": {},
   "outputs": [
    {
     "name": "stdout",
     "output_type": "stream",
     "text": [
      "<class 'dict'>\n",
      "dict_keys(['managers', 'station_attendants', 'cooks', 'mechanics'])\n",
      "\n",
      "managers: {'count': 1, 'average_salary': 2000.0}\n",
      "station_attendants: {'count': 2, 'average_salary': 1800.0}\n",
      "cooks: {'count': 1, 'average_salary': 2100.0}\n",
      "mechanics: {'count': 4, 'average_salary': 2050.0}\n"
     ]
    }
   ],
   "source": [
    "departments = company_stats[\"departments\"]\n",
    "print(type(departments))\n",
    "print(departments.keys())\n",
    "print()\n",
    "for k,v in departments.items():\n",
    "    print(f\"{k}: {v}\")\n"
   ]
  },
  {
   "cell_type": "code",
   "execution_count": 28,
   "metadata": {},
   "outputs": [
    {
     "name": "stdout",
     "output_type": "stream",
     "text": [
      "<class 'dict'>\n",
      "dict_keys(['managers', 'station_attendants', 'cooks', 'mechanics'])\n",
      "\n",
      "{'managers': [{'name': 'Vera Schmidt', 'salary': 2000, 'contact': {'email': 'vera.schmidt@company.com', 'phone': 'N/A'}}], 'station_attendants': [{'name': 'Chuck Norris', 'salary': 1800, 'contact': {'email': 'chuck.norris@company.com', 'phone': 'N/A'}}, {'name': 'Samantha Carrginton', 'salary': 1800, 'contact': {'email': 'samantha.carrginton@company.com', 'phone': 'N/A'}}], 'cooks': [{'name': 'Roberto Jacketti', 'salary': 2100, 'contact': {'email': 'roberto.jacketti@company.com', 'phone': 'N/A'}}], 'mechanics': [{'name': 'Dave Drebig', 'salary': 2200, 'contact': {'email': 'dave.drebig@company.com', 'phone': 'N/A'}}, {'name': 'Tina River', 'salary': 2300, 'contact': {'email': 'tina.river@company.com', 'phone': 'N/A'}}, {'name': 'Ringo Rama', 'salary': 1900, 'contact': {'email': 'ringo.rama@company.com', 'phone': 'N/A'}}, {'name': 'Chuck Rainey', 'salary': 1800, 'contact': {'email': 'chuck.rainey@company.com', 'phone': 'N/A'}}]}\n"
     ]
    }
   ],
   "source": [
    "\n",
    "staff_details = data[\"staff_details\"]\n",
    "print(type(staff_details))\n",
    "print(staff_details.keys())\n",
    "print()\n",
    "print(staff_details)"
   ]
  },
  {
   "cell_type": "code",
   "execution_count": 30,
   "metadata": {},
   "outputs": [
    {
     "name": "stdout",
     "output_type": "stream",
     "text": [
      "managers: [{'name': 'Vera Schmidt', 'salary': 2000, 'contact': {'email': 'vera.schmidt@company.com', 'phone': 'N/A'}}]\n",
      "station_attendants: [{'name': 'Chuck Norris', 'salary': 1800, 'contact': {'email': 'chuck.norris@company.com', 'phone': 'N/A'}}, {'name': 'Samantha Carrginton', 'salary': 1800, 'contact': {'email': 'samantha.carrginton@company.com', 'phone': 'N/A'}}]\n",
      "cooks: [{'name': 'Roberto Jacketti', 'salary': 2100, 'contact': {'email': 'roberto.jacketti@company.com', 'phone': 'N/A'}}]\n",
      "mechanics: [{'name': 'Dave Drebig', 'salary': 2200, 'contact': {'email': 'dave.drebig@company.com', 'phone': 'N/A'}}, {'name': 'Tina River', 'salary': 2300, 'contact': {'email': 'tina.river@company.com', 'phone': 'N/A'}}, {'name': 'Ringo Rama', 'salary': 1900, 'contact': {'email': 'ringo.rama@company.com', 'phone': 'N/A'}}, {'name': 'Chuck Rainey', 'salary': 1800, 'contact': {'email': 'chuck.rainey@company.com', 'phone': 'N/A'}}]\n"
     ]
    }
   ],
   "source": [
    "for k,v in staff_details.items():\n",
    "    print(f\"{k}: {v}\")\n",
    "\n"
   ]
  },
  {
   "cell_type": "code",
   "execution_count": null,
   "metadata": {},
   "outputs": [],
   "source": []
  }
 ],
 "metadata": {
  "kernelspec": {
   "display_name": "py312",
   "language": "python",
   "name": "python3"
  },
  "language_info": {
   "codemirror_mode": {
    "name": "ipython",
    "version": 3
   },
   "file_extension": ".py",
   "mimetype": "text/x-python",
   "name": "python",
   "nbconvert_exporter": "python",
   "pygments_lexer": "ipython3",
   "version": "3.12.8"
  }
 },
 "nbformat": 4,
 "nbformat_minor": 2
}
