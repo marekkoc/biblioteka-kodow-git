{
 "cells": [
  {
   "cell_type": "markdown",
   "id": "611a0676-cffb-4328-b711-baebce660769",
   "metadata": {},
   "source": [
    "### Brilliant\n",
    "\n",
    "## 4.1 Programming and CS\n",
    "\n",
    "# N-GRAM MODEL\n",
    "\n",
    "\n",
    "@author: mk\n",
    "\n",
    "Created: 2024.10.31\n",
    "\n",
    "Modified: 2024.10.31"
   ]
  },
  {
   "cell_type": "markdown",
   "id": "8666168f-1818-4a88-81c4-edce7355d3d9",
   "metadata": {},
   "source": [
    "# To do:\n",
    "\n",
    "1. sprawdzić jak działa Counter!!! (Lekcja 3) Dlaczego gdy w konstrukorze poda się string to go automatycznie rozdziela i zlicza, a jak poda się liste to tego nie robi..\n"
   ]
  },
  {
   "cell_type": "markdown",
   "id": "c9a4f187-e946-4161-8bb9-27664d0cd8f7",
   "metadata": {
    "jp-MarkdownHeadingCollapsed": true,
    "tags": []
   },
   "source": [
    "# Lesson 1: Turning text into data"
   ]
  },
  {
   "cell_type": "code",
   "execution_count": 7,
   "id": "64f6acec-8025-47dc-893a-617d6bacedf0",
   "metadata": {},
   "outputs": [],
   "source": [
    "filename = 'data/jekyll.txt'\n",
    "reader = open(filename)"
   ]
  },
  {
   "cell_type": "markdown",
   "id": "cc0c812c-7257-4d42-8be5-aa42ae15f040",
   "metadata": {},
   "source": [
    "Reader is a file object, it doesn't print the text.\n",
    "A file object is a special Python data type for accessing and manipulating files stroed on a computer or a server.\n"
   ]
  },
  {
   "cell_type": "code",
   "execution_count": 8,
   "id": "556bd10a-0e13-4ca9-a9f9-065990fa7102",
   "metadata": {},
   "outputs": [],
   "source": [
    "# print(reader)"
   ]
  },
  {
   "cell_type": "markdown",
   "id": "ceb8deed-e96c-48d9-9fcb-f1233558a461",
   "metadata": {},
   "source": [
    "file objects provide the method ```readlines()``` that returns a **list**"
   ]
  },
  {
   "cell_type": "code",
   "execution_count": 9,
   "id": "609c7048-76ca-4f63-924e-4f9487234732",
   "metadata": {},
   "outputs": [
    {
     "name": "stdout",
     "output_type": "stream",
     "text": [
      "['The Strange Case Of Dr. Jekyll And Mr. Hyde\\n', 'by Robert Louis Stevenson\\n', '\\n', 'STORY OF THE DOOR\\n', '\\n', 'Mr. Utterson the lawyer was a man of a rugged countenance that was\\n', 'never lighted by a smile; cold, scanty and embarrassed in discourse;\\n']\n"
     ]
    }
   ],
   "source": [
    "lines = reader.readlines()\n",
    "\n",
    "print(lines[:7])"
   ]
  },
  {
   "cell_type": "markdown",
   "id": "5fc98f20-371a-4285-9aa5-748084d4deb6",
   "metadata": {},
   "source": [
    "Another approach is to define a ```for``` loop"
   ]
  },
  {
   "cell_type": "code",
   "execution_count": 11,
   "id": "eadac316-bd57-43b3-9907-e5f4f41d516d",
   "metadata": {},
   "outputs": [],
   "source": [
    "reader = open('data/jekyll.txt')\n",
    "\n",
    "for line in reader:\n",
    "    #print(line)\n",
    "    pass"
   ]
  },
  {
   "cell_type": "markdown",
   "id": "4246f96f-6cfd-489f-9668-53bbb47ff820",
   "metadata": {},
   "source": [
    "Fro the n-grams analysis it is helpful to know how many lines are in the file.\n",
    "\n",
    "**NUMBER OF LINES**"
   ]
  },
  {
   "cell_type": "code",
   "execution_count": 13,
   "id": "556eca44-bd51-4412-9740-586027f9a7b4",
   "metadata": {},
   "outputs": [
    {
     "name": "stdout",
     "output_type": "stream",
     "text": [
      "2525\n"
     ]
    }
   ],
   "source": [
    "reader = open('data/jekyll.txt')\n",
    "\n",
    "lines = reader.readlines()\n",
    "print(len(lines))"
   ]
  },
  {
   "cell_type": "markdown",
   "id": "ebc3fb81-0a29-4a48-a291-75a2090bd46f",
   "metadata": {},
   "source": [
    "**NUMBER OF WORDS**"
   ]
  },
  {
   "cell_type": "markdown",
   "id": "a036e6ab-30b9-4e18-94ee-86c0f9d59fab",
   "metadata": {},
   "source": [
    "The ```split()``` method."
   ]
  },
  {
   "cell_type": "code",
   "execution_count": 17,
   "id": "59e27e66-158b-4c8e-89a1-a3724d0e3110",
   "metadata": {},
   "outputs": [
    {
     "name": "stdout",
     "output_type": "stream",
     "text": [
      "['Poor', 'Harry', 'Jekyll!']\n",
      "3\n"
     ]
    }
   ],
   "source": [
    "tekst = \"Poor Harry Jekyll!\"\n",
    "\n",
    "word_list = tekst.split()\n",
    "\n",
    "print(word_list)\n",
    "print(len(word_list))"
   ]
  },
  {
   "cell_type": "markdown",
   "id": "25193b61-d459-49ca-982d-2bd1ac1400bf",
   "metadata": {},
   "source": [
    "COUNTING NUMBER OF WORDS"
   ]
  },
  {
   "cell_type": "code",
   "execution_count": 20,
   "id": "48c5e07c-e65c-4f18-9c41-d9521069d32a",
   "metadata": {},
   "outputs": [
    {
     "name": "stdout",
     "output_type": "stream",
     "text": [
      "25585\n"
     ]
    }
   ],
   "source": [
    "reader = open('data/jekyll.txt')\n",
    "\n",
    "count = 0\n",
    "for line in reader:\n",
    "    count += len(line.split())\n",
    "print(count)"
   ]
  },
  {
   "cell_type": "markdown",
   "id": "337f21ba-640a-40a5-998f-2b02105bbf86",
   "metadata": {
    "jp-MarkdownHeadingCollapsed": true,
    "tags": []
   },
   "source": [
    "# Lesson 2: Using dictionaries"
   ]
  },
  {
   "cell_type": "markdown",
   "id": "495c634e-5d1a-4a6f-b302-27e67a599b05",
   "metadata": {},
   "source": [
    "Predictive text works by calculating which word id most likey to come next. To do that, it helps to know how frequentlu different words appear. \n",
    "\n",
    "Dictionary: data structure that **maps keys to values**."
   ]
  },
  {
   "cell_type": "code",
   "execution_count": 22,
   "id": "d41db947-ff4e-46c5-b132-f86070d413b5",
   "metadata": {},
   "outputs": [
    {
     "name": "stdout",
     "output_type": "stream",
     "text": [
      "{'strange': 'Odd or unusuall', 'case': 'A situation requiring investigation', 'Dr.': 'Abbreviattion for Doctor.'}\n"
     ]
    }
   ],
   "source": [
    "word_dict = {}\n",
    "word_dict['strange'] = \"Odd or unusuall\"\n",
    "word_dict['case'] = 'A situation requiring investigation'\n",
    "word_dict['Dr.'] = 'Abbreviattion for Doctor.'\n",
    "\n",
    "print(word_dict)"
   ]
  },
  {
   "cell_type": "markdown",
   "id": "e0986832-127b-437a-b2cf-6168dd94928a",
   "metadata": {},
   "source": [
    "\n",
    "A dictionary item: \n",
    "\n",
    "\n",
    "key : value\n"
   ]
  },
  {
   "cell_type": "markdown",
   "id": "0d6d63ce-bf97-4e22-ba8c-beb652ff0b6a",
   "metadata": {},
   "source": [
    "```frequency_dict``` stories the number of time each word appears in a line of text from the book."
   ]
  },
  {
   "cell_type": "code",
   "execution_count": 51,
   "id": "f3fe3890-4411-48db-bf75-6fdd19b71013",
   "metadata": {},
   "outputs": [],
   "source": [
    "def make_dict(ln):\n",
    "    dct = {}\n",
    "    for w in ln.split():\n",
    "        if w in dct:\n",
    "            dct[w] += 1\n",
    "        else:\n",
    "            dct[w] = 1\n",
    "    return dct"
   ]
  },
  {
   "cell_type": "code",
   "execution_count": 52,
   "id": "fff1b100-248a-402f-931c-aea2f59d39e8",
   "metadata": {},
   "outputs": [
    {
     "name": "stdout",
     "output_type": "stream",
     "text": [
      "{'city:': 1, 'then': 2, 'of': 3, 'the': 1, 'figure': 1, 'a': 2, 'man': 1, 'walking': 1, 'swiftly;': 1, 'child': 1}\n"
     ]
    }
   ],
   "source": [
    "line = \"city: then of the figure of a man walking swiftly; then of a child\"\n",
    "\n",
    "frequency_dict = make_dict(line)\n",
    "print(frequency_dict)"
   ]
  },
  {
   "cell_type": "markdown",
   "id": "be275927-e1d8-42da-8a72-aba2344ecf4e",
   "metadata": {},
   "source": [
    "Number of items in the dictionary -> the \"lengty of the dictionary\"; number of kesys and number of values"
   ]
  },
  {
   "cell_type": "code",
   "execution_count": 53,
   "id": "31abdcd0-3982-4b09-925a-9ffa13d3322f",
   "metadata": {},
   "outputs": [
    {
     "data": {
      "text/plain": [
       "10"
      ]
     },
     "execution_count": 53,
     "metadata": {},
     "output_type": "execute_result"
    }
   ],
   "source": [
    "# number of unique words!\n",
    "len(frequency_dict)"
   ]
  },
  {
   "cell_type": "code",
   "execution_count": 54,
   "id": "5a57a748-4c38-4cd9-b936-a60d6d1dabf7",
   "metadata": {},
   "outputs": [
    {
     "data": {
      "text/plain": [
       "3"
      ]
     },
     "execution_count": 54,
     "metadata": {},
     "output_type": "execute_result"
    }
   ],
   "source": [
    "# we can check how many times a specific word appears in the dictionary\n",
    "frequency_dict['of']"
   ]
  },
  {
   "cell_type": "markdown",
   "id": "7b530c8a-f2b6-49de-94a1-6a9e187e5f34",
   "metadata": {},
   "source": [
    "If the key is not int he dictionary, the program produces a ```KeyError```"
   ]
  },
  {
   "cell_type": "code",
   "execution_count": 55,
   "id": "20c2a510-424a-4246-9438-b9732ff47176",
   "metadata": {},
   "outputs": [
    {
     "ename": "KeyError",
     "evalue": "'improbable'",
     "output_type": "error",
     "traceback": [
      "\u001b[0;31m---------------------------------------------------------------------------\u001b[0m",
      "\u001b[0;31mKeyError\u001b[0m                                  Traceback (most recent call last)",
      "Cell \u001b[0;32mIn[55], line 1\u001b[0m\n\u001b[0;32m----> 1\u001b[0m \u001b[43mfrequency_dict\u001b[49m\u001b[43m[\u001b[49m\u001b[38;5;124;43m\"\u001b[39;49m\u001b[38;5;124;43mimprobable\u001b[39;49m\u001b[38;5;124;43m\"\u001b[39;49m\u001b[43m]\u001b[49m\n",
      "\u001b[0;31mKeyError\u001b[0m: 'improbable'"
     ]
    }
   ],
   "source": [
    "frequency_dict[\"improbable\"]"
   ]
  },
  {
   "cell_type": "markdown",
   "id": "d2fd0e1b-3240-4bea-8833-6bfe131fe6a3",
   "metadata": {},
   "source": [
    "DIVISION THE STRING INTO A LIST OF WORDS"
   ]
  },
  {
   "cell_type": "code",
   "execution_count": 60,
   "id": "d700f3b9-9e14-4844-8748-cb67e3bc4054",
   "metadata": {},
   "outputs": [
    {
     "name": "stdout",
     "output_type": "stream",
     "text": [
      "{'city;': 1, 'then': 2, 'of': 3, 'the': 1, 'figure': 1, 'a': 2, 'man': 1, 'walking': 1, 'swiftly;': 1, 'child': 1}\n"
     ]
    }
   ],
   "source": [
    "line = \"city; then of the figure of a man walking swiftly; then of a child\"\n",
    "\n",
    "word_list = line.split()\n",
    "frequency_dict = {}\n",
    "\n",
    "for word in word_list:\n",
    "    if word in frequency_dict:\n",
    "        frequency_dict[word] += 1\n",
    "    else:\n",
    "        frequency_dict[word] = 1\n",
    "\n",
    "print(frequency_dict)"
   ]
  },
  {
   "cell_type": "markdown",
   "id": "1a711772-3bac-45c1-a531-7f08c149dc67",
   "metadata": {},
   "source": [
    "Let's find out how often each word appears in the whole book."
   ]
  },
  {
   "cell_type": "code",
   "execution_count": 66,
   "id": "ebdb6e2a-51d7-4aec-860b-1b3e9c996886",
   "metadata": {},
   "outputs": [
    {
     "name": "stdout",
     "output_type": "stream",
     "text": [
      "1\n"
     ]
    }
   ],
   "source": [
    "reader = open('data/jekyll.txt')\n",
    "\n",
    "frequency_dict = {}\n",
    "\n",
    "for line in reader:\n",
    "    for word in line.split():\n",
    "        if word in frequency_dict:\n",
    "            frequency_dict[word] += 1\n",
    "        else:\n",
    "            frequency_dict[word] = 1\n",
    "print(frequency_dict[\"premonitory\"])"
   ]
  },
  {
   "cell_type": "markdown",
   "id": "8ac0ccce-5501-4002-bdf4-080416c0c737",
   "metadata": {},
   "source": [
    "# Lesson  3: Counting Unique Words"
   ]
  },
  {
   "cell_type": "markdown",
   "id": "14ec3fba-dcf9-4163-aa1a-3fbb37205a78",
   "metadata": {},
   "source": [
    "Up to now, we have used dicdtionary to count unique words. "
   ]
  },
  {
   "cell_type": "code",
   "execution_count": 3,
   "id": "569e4f2b-d222-4ec7-ab2f-5cf989332b89",
   "metadata": {},
   "outputs": [
    {
     "name": "stdout",
     "output_type": "stream",
     "text": [
      "6039\n"
     ]
    }
   ],
   "source": [
    "reader = open('data/jekyll.txt')\n",
    "frequency_dict = {}\n",
    "\n",
    "for line in reader:\n",
    "    for word in line.split():\n",
    "        if word in frequency_dict:\n",
    "            frequency_dict[word] += 1\n",
    "        else:\n",
    "            frequency_dict[word] = 1\n",
    "print(len(frequency_dict))"
   ]
  },
  {
   "cell_type": "markdown",
   "id": "f8db7738-9d6b-4fa4-9cb0-22d89547572f",
   "metadata": {},
   "source": [
    "Are the words in a dictionary unique? Let's see! Let's print some of dictionary keys."
   ]
  },
  {
   "cell_type": "code",
   "execution_count": 10,
   "id": "6dd86a7a-5038-4ffb-bc5f-8c9836f90a71",
   "metadata": {},
   "outputs": [
    {
     "name": "stdout",
     "output_type": "stream",
     "text": [
      "The Strange Case Of Dr. Jekyll And Mr. Hyde by Robert Louis Stevenson STORY OF THE DOOR Utterson the lawyer was a man of rugged "
     ]
    }
   ],
   "source": [
    "word_list = list(frequency_dict)\n",
    "for i in range(0,25):\n",
    "    word = word_list[i]\n",
    "    print(word, end=' ')\n",
    "\n",
    "#sorted(word_list[:25])"
   ]
  },
  {
   "cell_type": "markdown",
   "id": "664ef0d7-6d98-4f91-bb7b-62fef0304483",
   "metadata": {},
   "source": [
    "We need to remove punctuation as period and comma and unify the letters to lower. WE use functions: ```strip()``` and ```lower()```."
   ]
  },
  {
   "cell_type": "code",
   "execution_count": 15,
   "id": "8dfadae2-4fbc-4e39-8d25-f680993318bf",
   "metadata": {},
   "outputs": [
    {
     "name": "stdout",
     "output_type": "stream",
     "text": [
      "mr. hy\n"
     ]
    }
   ],
   "source": [
    "# test\n",
    "initial_string = \",,,Mr. Hyde.,\"\n",
    "lowered_string = initial_string.lower()\n",
    "final_string = lowered_string.strip(\".d,e\")\n",
    "print(final_string)"
   ]
  },
  {
   "cell_type": "markdown",
   "id": "2469f356-98de-4174-8ca7-696f3dcf00f8",
   "metadata": {},
   "source": [
    "REMOVING PUNCTUATION WITH ```STRIP()```"
   ]
  },
  {
   "cell_type": "code",
   "execution_count": 20,
   "id": "6793edf9-413d-49b2-984f-4d32ef6a65b7",
   "metadata": {},
   "outputs": [],
   "source": [
    "punctuation = \".;,-\\\"'?-`!()_\""
   ]
  },
  {
   "cell_type": "code",
   "execution_count": 21,
   "id": "c0817b58-6798-468d-9aa7-2b132f533ce4",
   "metadata": {},
   "outputs": [
    {
     "name": "stdout",
     "output_type": "stream",
     "text": [
      "hello\n"
     ]
    }
   ],
   "source": [
    "initial_string = \"_(Hello!?.,\"\n",
    "cleaned_string = initial_string.lower().strip(punctuation)\n",
    "print(cleaned_string)"
   ]
  },
  {
   "cell_type": "markdown",
   "id": "e11dd78b-ada7-4942-af47-86db6924ef39",
   "metadata": {},
   "source": [
    "ZASTOSOWANIE DO CALEGO TEKSTU"
   ]
  },
  {
   "cell_type": "code",
   "execution_count": 23,
   "id": "884e6623-ab6d-4ddb-bf16-ebcc66c767c9",
   "metadata": {},
   "outputs": [
    {
     "name": "stdout",
     "output_type": "stream",
     "text": [
      "4447\n"
     ]
    }
   ],
   "source": [
    "reader = open('data/jekyll.txt')\n",
    "\n",
    "punctuation = \".;,-\\\"':?-`!()_~\"\n",
    "\n",
    "freq_dic = {}\n",
    "for line in reader:\n",
    "    for word in line.split():\n",
    "        cleaned_word = word.lower().strip(punctuation)\n",
    "        if cleaned_word in freq_dic:\n",
    "            freq_dic[cleaned_word] += 1\n",
    "        else:\n",
    "            freq_dic[cleaned_word] = 1\n",
    "print(len(freq_dic))\n",
    "        "
   ]
  },
  {
   "cell_type": "markdown",
   "id": "9b79ee63-78e3-416b-8fa0-1064ed3cb696",
   "metadata": {},
   "source": [
    "### USING A COUNTER"
   ]
  },
  {
   "cell_type": "markdown",
   "id": "b280bfb2-4b3e-4080-b425-441aa85a8ed3",
   "metadata": {},
   "source": [
    "The ```Counter``` from ```collections```. In many ways a ```Counter``` is like a dictionary. "
   ]
  },
  {
   "cell_type": "code",
   "execution_count": 25,
   "id": "0527d9ca-16ac-4df1-8fa1-cdb5b38f4178",
   "metadata": {},
   "outputs": [
    {
     "name": "stdout",
     "output_type": "stream",
     "text": [
      "Counter({'the': 2, 'and': 1})\n"
     ]
    }
   ],
   "source": [
    "from collections import Counter\n",
    "\n",
    "counter = Counter()\n",
    "counter[\"the\"] += 1\n",
    "counter[\"and\"] += 1 \n",
    "counter[\"the\"] += 1\n",
    "\n",
    "print(counter)"
   ]
  },
  {
   "cell_type": "markdown",
   "id": "94da8c4c-41bf-412a-879b-923c8243dc28",
   "metadata": {},
   "source": [
    "The keys are updated and accessed using the same syntax as a dictionary, however there is ```one big difference!```"
   ]
  },
  {
   "cell_type": "code",
   "execution_count": 27,
   "id": "78b45a73-5486-4855-a7b5-58e9fef8ef43",
   "metadata": {},
   "outputs": [
    {
     "name": "stdout",
     "output_type": "stream",
     "text": [
      "3\n"
     ]
    }
   ],
   "source": [
    "counter = Counter()\n",
    "\n",
    "word = 'horror'\n",
    "\n",
    "for letter in word:\n",
    "    counter[letter] += 1\n",
    "    \n",
    "print(counter['r'])"
   ]
  },
  {
   "cell_type": "code",
   "execution_count": 28,
   "id": "f927445d-61d7-46b8-8b4e-9f025054e974",
   "metadata": {},
   "outputs": [
    {
     "name": "stdout",
     "output_type": "stream",
     "text": [
      "s 0\n"
     ]
    }
   ],
   "source": [
    "counter = Counter(\"horror\")\n",
    "key = 's'\n",
    "print(key, counter[key])"
   ]
  },
  {
   "cell_type": "code",
   "execution_count": 29,
   "id": "95ffe21a-d576-4d7f-a694-ad02d0a9f209",
   "metadata": {},
   "outputs": [
    {
     "data": {
      "text/plain": [
       "Counter({'h': 1, 'o': 2, 'r': 3})"
      ]
     },
     "execution_count": 29,
     "metadata": {},
     "output_type": "execute_result"
    }
   ],
   "source": [
    "counter"
   ]
  },
  {
   "cell_type": "markdown",
   "id": "3a442e4c-dc82-492f-8dec-fc1efd67306c",
   "metadata": {},
   "source": [
    "If the key is not in the ```Counter```, it's not an error - the result is 0"
   ]
  },
  {
   "cell_type": "code",
   "execution_count": 30,
   "id": "e3351f00-3968-444d-8c83-b06471828c23",
   "metadata": {},
   "outputs": [
    {
     "name": "stdout",
     "output_type": "stream",
     "text": [
      "Before: s 0\n",
      "After: s 1\n"
     ]
    }
   ],
   "source": [
    "counter = Counter('horror')\n",
    "key = 's'\n",
    "print(\"Before:\", key, counter[key])\n",
    "counter[key] += 1\n",
    "print(\"After:\", key, counter[key])"
   ]
  },
  {
   "cell_type": "markdown",
   "id": "75e2d380-da30-47f5-ab1c-d238eb19580f",
   "metadata": {},
   "source": [
    "----"
   ]
  },
  {
   "cell_type": "markdown",
   "id": "3a2e5edb-900d-454a-99b2-726007919718",
   "metadata": {
    "tags": []
   },
   "source": [
    "# Testy typu ```Counter``` na podstawie opisu i przykładów z chcatGPT"
   ]
  },
  {
   "cell_type": "code",
   "execution_count": 36,
   "id": "1e0fb9cf-232b-4875-a41f-759813aab58e",
   "metadata": {},
   "outputs": [
    {
     "data": {
      "text/plain": [
       "Counter({'1': 2, ',': 6, '2': 2, '3': 1, '6': 1, '7': 1})"
      ]
     },
     "execution_count": 36,
     "metadata": {},
     "output_type": "execute_result"
    }
   ],
   "source": [
    "c = Counter(\"1,2,3,1,2,6,7\")\n",
    "c"
   ]
  },
  {
   "cell_type": "code",
   "execution_count": 38,
   "id": "99d5fa12-e18a-4631-95ae-29658e76dae0",
   "metadata": {},
   "outputs": [
    {
     "name": "stdout",
     "output_type": "stream",
     "text": [
      "Counter({'apple': 3, 'banana': 2, 'orange': 1})\n"
     ]
    }
   ],
   "source": [
    "list_example = ['apple', 'banana', 'apple', 'orange', 'banana', 'apple']\n",
    "counter_list = Counter(list_example)\n",
    "print(counter_list)"
   ]
  },
  {
   "cell_type": "code",
   "execution_count": 45,
   "id": "f7d9c540-e52a-442d-9fe5-7213d7415270",
   "metadata": {},
   "outputs": [
    {
     "name": "stdout",
     "output_type": "stream",
     "text": [
      "Counter({20: 4, 30: 3, 10: 2, 40: 2, 50: 2, 60: 1})\n"
     ]
    }
   ],
   "source": [
    "list_example =  [10,20,30,20,30,40,50,60,30,40,50,10,20,20]\n",
    "counter_list = Counter(list_example)\n",
    "print(counter_list)"
   ]
  },
  {
   "cell_type": "code",
   "execution_count": 47,
   "id": "2b718786-204e-4a45-b816-0df4c30a6703",
   "metadata": {},
   "outputs": [
    {
     "name": "stdout",
     "output_type": "stream",
     "text": [
      "Counter({'l': 2, 'hello': 2, 'h': 1, 'e': 1, 'o': 1, 'world': 1})\n"
     ]
    }
   ],
   "source": [
    "counter = Counter()\n",
    "counter.update(\"hello\")\n",
    "counter.update([\"hello\", \"world\", \"hello\"])\n",
    "print(counter)"
   ]
  },
  {
   "cell_type": "markdown",
   "id": "ae1d862f-3df6-4318-aa36-2310ddb09798",
   "metadata": {},
   "source": [
    "UWAGA!!! ALE FAJNE ZACHOWANIE PONIZEJ"
   ]
  },
  {
   "cell_type": "code",
   "execution_count": 46,
   "id": "904907f7-d36f-4cb5-81a4-9ebc8be38123",
   "metadata": {},
   "outputs": [
    {
     "name": "stdout",
     "output_type": "stream",
     "text": [
      "Counter({'l': 2, 'h': 1, 'e': 1, 'o': 1})\n",
      "Counter({'l': 2, 'hello': 2, 'h': 1, 'e': 1, 'o': 1, 'world': 1})\n"
     ]
    }
   ],
   "source": [
    "counter = Counter()\n",
    "counter.update(\"hello\")\n",
    "print(counter)\n",
    "counter.update([\"hello\", \"world\", \"hello\"])\n",
    "print(counter)"
   ]
  },
  {
   "cell_type": "code",
   "execution_count": 48,
   "id": "905689ff-b56e-4bca-9c07-20baa09c24dc",
   "metadata": {},
   "outputs": [
    {
     "name": "stdout",
     "output_type": "stream",
     "text": [
      "[('i', 4), ('s', 4)]\n"
     ]
    }
   ],
   "source": [
    "counter = Counter(\"mississippi\")\n",
    "print(counter.most_common(2))\n",
    "# Output: [('i', 4), ('s', 4)]\n"
   ]
  },
  {
   "cell_type": "markdown",
   "id": "dc1e980a-81d8-4662-88b6-dea38729c68d",
   "metadata": {},
   "source": [
    "---"
   ]
  },
  {
   "cell_type": "markdown",
   "id": "271003d9-ef4d-4c45-b38d-f5bfe51f1c7e",
   "metadata": {},
   "source": [
    "Very useful method for ```Counter``` is ``most_common()```"
   ]
  },
  {
   "cell_type": "code",
   "execution_count": 49,
   "id": "1642b20d-2d9b-47cc-b29c-148a4a7c3c1d",
   "metadata": {},
   "outputs": [
    {
     "name": "stdout",
     "output_type": "stream",
     "text": [
      "[('a', 3), ('You', 2), ('and', 2), ('starting', 2), ('the', 2)]\n"
     ]
    }
   ],
   "source": [
    "passage = \"You start a question, and it's like starting a stone. You sit quietly on the top af a gill' and sway the sonte goes, starting others.\"\n",
    "\n",
    "counter = Counter()\n",
    "for word in passage.split():\n",
    "    counter[word] += 1\n",
    "print(counter.most_common(5))"
   ]
  },
  {
   "cell_type": "code",
   "execution_count": 71,
   "id": "34a0383b-4a86-4611-871a-219a1bf984c4",
   "metadata": {},
   "outputs": [
    {
     "name": "stdout",
     "output_type": "stream",
     "text": [
      "85\n"
     ]
    }
   ],
   "source": [
    "reader = open('data/jekyll.txt')\n",
    "\n",
    "word_counts = Counter()\n",
    "\n",
    "for line in reader:\n",
    "    for word in line.split():\n",
    "        clean_word = word.strip(\".;,-\\\"':?-`!()_~\").lower()\n",
    "        word_counts[clean_word] += 1\n",
    "        \n",
    "print(word_counts['hyde'])"
   ]
  },
  {
   "cell_type": "code",
   "execution_count": 72,
   "id": "aa08c28e-dfc1-41e3-b2c9-2407e2874211",
   "metadata": {},
   "outputs": [
    {
     "name": "stdout",
     "output_type": "stream",
     "text": [
      "[('the', 1597), ('and', 945)]\n"
     ]
    }
   ],
   "source": [
    "print(word_counts.most_common(2))"
   ]
  },
  {
   "cell_type": "code",
   "execution_count": null,
   "id": "f32ac40b-b9cf-46cf-ada4-bda933b47a53",
   "metadata": {},
   "outputs": [],
   "source": []
  }
 ],
 "metadata": {
  "kernelspec": {
   "display_name": "py38",
   "language": "python",
   "name": "py38"
  },
  "language_info": {
   "codemirror_mode": {
    "name": "ipython",
    "version": 3
   },
   "file_extension": ".py",
   "mimetype": "text/x-python",
   "name": "python",
   "nbconvert_exporter": "python",
   "pygments_lexer": "ipython3",
   "version": "3.8.12"
  }
 },
 "nbformat": 4,
 "nbformat_minor": 5
}
