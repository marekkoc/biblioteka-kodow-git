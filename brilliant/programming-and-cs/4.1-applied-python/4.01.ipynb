{
 "cells": [
  {
   "cell_type": "markdown",
   "id": "611a0676-cffb-4328-b711-baebce660769",
   "metadata": {},
   "source": [
    "### Brilliant\n",
    "\n",
    "## 4.1 Programming and CS\n",
    "\n",
    "# N-GRAM MODEL\n",
    "\n",
    "\n",
    "@author: mk\n",
    "\n",
    "Created: 2024.10.31\n",
    "\n",
    "Modified: 2024.11.04"
   ]
  },
  {
   "cell_type": "markdown",
   "id": "8666168f-1818-4a88-81c4-edce7355d3d9",
   "metadata": {},
   "source": [
    "# To do:\n",
    "\n",
    "1. sprawdzić jak działa Counter!!! (Lekcja 3) Dlaczego gdy w konstrukorze poda się string to go automatycznie rozdziela i zlicza, a jak poda się liste to tego nie robi..\n"
   ]
  },
  {
   "cell_type": "markdown",
   "id": "c9a4f187-e946-4161-8bb9-27664d0cd8f7",
   "metadata": {
    "jp-MarkdownHeadingCollapsed": true,
    "tags": []
   },
   "source": [
    "# Lesson 1: Turning text into data"
   ]
  },
  {
   "cell_type": "code",
   "execution_count": 1,
   "id": "64f6acec-8025-47dc-893a-617d6bacedf0",
   "metadata": {},
   "outputs": [],
   "source": [
    "filename = 'data/jekyll.txt'\n",
    "reader = open(filename)"
   ]
  },
  {
   "cell_type": "markdown",
   "id": "cc0c812c-7257-4d42-8be5-aa42ae15f040",
   "metadata": {},
   "source": [
    "Reader is a file object, it doesn't print the text.\n",
    "A file object is a special Python data type for accessing and manipulating files stroed on a computer or a server.\n"
   ]
  },
  {
   "cell_type": "code",
   "execution_count": 2,
   "id": "556bd10a-0e13-4ca9-a9f9-065990fa7102",
   "metadata": {},
   "outputs": [],
   "source": [
    "# print(reader)"
   ]
  },
  {
   "cell_type": "markdown",
   "id": "ceb8deed-e96c-48d9-9fcb-f1233558a461",
   "metadata": {},
   "source": [
    "file objects provide the method ```readlines()``` that returns a **list**"
   ]
  },
  {
   "cell_type": "code",
   "execution_count": 3,
   "id": "609c7048-76ca-4f63-924e-4f9487234732",
   "metadata": {},
   "outputs": [
    {
     "name": "stdout",
     "output_type": "stream",
     "text": [
      "['The Strange Case Of Dr. Jekyll And Mr. Hyde\\n', 'by Robert Louis Stevenson\\n', '\\n', 'STORY OF THE DOOR\\n', '\\n', 'Mr. Utterson the lawyer was a man of a rugged countenance that was\\n', 'never lighted by a smile; cold, scanty and embarrassed in discourse;\\n']\n"
     ]
    }
   ],
   "source": [
    "lines = reader.readlines()\n",
    "\n",
    "print(lines[:7])"
   ]
  },
  {
   "cell_type": "markdown",
   "id": "5fc98f20-371a-4285-9aa5-748084d4deb6",
   "metadata": {},
   "source": [
    "Another approach is to define a ```for``` loop"
   ]
  },
  {
   "cell_type": "code",
   "execution_count": 4,
   "id": "eadac316-bd57-43b3-9907-e5f4f41d516d",
   "metadata": {},
   "outputs": [],
   "source": [
    "reader = open('data/jekyll.txt')\n",
    "\n",
    "for line in reader:\n",
    "    #print(line)\n",
    "    pass"
   ]
  },
  {
   "cell_type": "markdown",
   "id": "4246f96f-6cfd-489f-9668-53bbb47ff820",
   "metadata": {},
   "source": [
    "Fro the n-grams analysis it is helpful to know how many lines are in the file.\n",
    "\n",
    "**NUMBER OF LINES**"
   ]
  },
  {
   "cell_type": "code",
   "execution_count": 5,
   "id": "556eca44-bd51-4412-9740-586027f9a7b4",
   "metadata": {},
   "outputs": [
    {
     "name": "stdout",
     "output_type": "stream",
     "text": [
      "2525\n"
     ]
    }
   ],
   "source": [
    "reader = open('data/jekyll.txt')\n",
    "\n",
    "lines = reader.readlines()\n",
    "print(len(lines))"
   ]
  },
  {
   "cell_type": "markdown",
   "id": "ebc3fb81-0a29-4a48-a291-75a2090bd46f",
   "metadata": {},
   "source": [
    "**NUMBER OF WORDS**"
   ]
  },
  {
   "cell_type": "markdown",
   "id": "a036e6ab-30b9-4e18-94ee-86c0f9d59fab",
   "metadata": {},
   "source": [
    "The ```split()``` method."
   ]
  },
  {
   "cell_type": "code",
   "execution_count": 6,
   "id": "59e27e66-158b-4c8e-89a1-a3724d0e3110",
   "metadata": {},
   "outputs": [
    {
     "name": "stdout",
     "output_type": "stream",
     "text": [
      "['Poor', 'Harry', 'Jekyll!']\n",
      "3\n"
     ]
    }
   ],
   "source": [
    "tekst = \"Poor Harry Jekyll!\"\n",
    "\n",
    "word_list = tekst.split()\n",
    "\n",
    "print(word_list)\n",
    "print(len(word_list))"
   ]
  },
  {
   "cell_type": "markdown",
   "id": "25193b61-d459-49ca-982d-2bd1ac1400bf",
   "metadata": {},
   "source": [
    "COUNTING NUMBER OF WORDS"
   ]
  },
  {
   "cell_type": "code",
   "execution_count": 7,
   "id": "48c5e07c-e65c-4f18-9c41-d9521069d32a",
   "metadata": {},
   "outputs": [
    {
     "name": "stdout",
     "output_type": "stream",
     "text": [
      "25585\n"
     ]
    }
   ],
   "source": [
    "reader = open('data/jekyll.txt')\n",
    "\n",
    "count = 0\n",
    "for line in reader:\n",
    "    count += len(line.split())\n",
    "print(count)"
   ]
  },
  {
   "cell_type": "markdown",
   "id": "337f21ba-640a-40a5-998f-2b02105bbf86",
   "metadata": {
    "jp-MarkdownHeadingCollapsed": true,
    "tags": []
   },
   "source": [
    "# Lesson 2: Using dictionaries"
   ]
  },
  {
   "cell_type": "markdown",
   "id": "495c634e-5d1a-4a6f-b302-27e67a599b05",
   "metadata": {},
   "source": [
    "Predictive text works by calculating which word id most likey to come next. To do that, it helps to know how frequentlu different words appear. \n",
    "\n",
    "Dictionary: data structure that **maps keys to values**."
   ]
  },
  {
   "cell_type": "code",
   "execution_count": 8,
   "id": "d41db947-ff4e-46c5-b132-f86070d413b5",
   "metadata": {},
   "outputs": [
    {
     "name": "stdout",
     "output_type": "stream",
     "text": [
      "{'strange': 'Odd or unusuall', 'case': 'A situation requiring investigation', 'Dr.': 'Abbreviattion for Doctor.'}\n"
     ]
    }
   ],
   "source": [
    "word_dict = {}\n",
    "word_dict['strange'] = \"Odd or unusuall\"\n",
    "word_dict['case'] = 'A situation requiring investigation'\n",
    "word_dict['Dr.'] = 'Abbreviattion for Doctor.'\n",
    "\n",
    "print(word_dict)"
   ]
  },
  {
   "cell_type": "markdown",
   "id": "e0986832-127b-437a-b2cf-6168dd94928a",
   "metadata": {},
   "source": [
    "\n",
    "A dictionary item: \n",
    "\n",
    "\n",
    "key : value\n"
   ]
  },
  {
   "cell_type": "markdown",
   "id": "0d6d63ce-bf97-4e22-ba8c-beb652ff0b6a",
   "metadata": {},
   "source": [
    "```frequency_dict``` stories the number of time each word appears in a line of text from the book."
   ]
  },
  {
   "cell_type": "code",
   "execution_count": 9,
   "id": "f3fe3890-4411-48db-bf75-6fdd19b71013",
   "metadata": {},
   "outputs": [],
   "source": [
    "def make_dict(ln):\n",
    "    dct = {}\n",
    "    for w in ln.split():\n",
    "        if w in dct:\n",
    "            dct[w] += 1\n",
    "        else:\n",
    "            dct[w] = 1\n",
    "    return dct"
   ]
  },
  {
   "cell_type": "code",
   "execution_count": 10,
   "id": "fff1b100-248a-402f-931c-aea2f59d39e8",
   "metadata": {},
   "outputs": [
    {
     "name": "stdout",
     "output_type": "stream",
     "text": [
      "{'city:': 1, 'then': 2, 'of': 3, 'the': 1, 'figure': 1, 'a': 2, 'man': 1, 'walking': 1, 'swiftly;': 1, 'child': 1}\n"
     ]
    }
   ],
   "source": [
    "line = \"city: then of the figure of a man walking swiftly; then of a child\"\n",
    "\n",
    "frequency_dict = make_dict(line)\n",
    "print(frequency_dict)"
   ]
  },
  {
   "cell_type": "markdown",
   "id": "be275927-e1d8-42da-8a72-aba2344ecf4e",
   "metadata": {},
   "source": [
    "Number of items in the dictionary -> the \"lengty of the dictionary\"; number of kesys and number of values"
   ]
  },
  {
   "cell_type": "code",
   "execution_count": 11,
   "id": "31abdcd0-3982-4b09-925a-9ffa13d3322f",
   "metadata": {},
   "outputs": [
    {
     "data": {
      "text/plain": [
       "10"
      ]
     },
     "execution_count": 11,
     "metadata": {},
     "output_type": "execute_result"
    }
   ],
   "source": [
    "# number of unique words!\n",
    "len(frequency_dict)"
   ]
  },
  {
   "cell_type": "code",
   "execution_count": 12,
   "id": "5a57a748-4c38-4cd9-b936-a60d6d1dabf7",
   "metadata": {},
   "outputs": [
    {
     "data": {
      "text/plain": [
       "3"
      ]
     },
     "execution_count": 12,
     "metadata": {},
     "output_type": "execute_result"
    }
   ],
   "source": [
    "# we can check how many times a specific word appears in the dictionary\n",
    "frequency_dict['of']"
   ]
  },
  {
   "cell_type": "markdown",
   "id": "7b530c8a-f2b6-49de-94a1-6a9e187e5f34",
   "metadata": {},
   "source": [
    "If the key is not int he dictionary, the program produces a ```KeyError```"
   ]
  },
  {
   "cell_type": "code",
   "execution_count": 13,
   "id": "20c2a510-424a-4246-9438-b9732ff47176",
   "metadata": {},
   "outputs": [
    {
     "ename": "KeyError",
     "evalue": "'improbable'",
     "output_type": "error",
     "traceback": [
      "\u001b[0;31m---------------------------------------------------------------------------\u001b[0m",
      "\u001b[0;31mKeyError\u001b[0m                                  Traceback (most recent call last)",
      "Cell \u001b[0;32mIn[13], line 1\u001b[0m\n\u001b[0;32m----> 1\u001b[0m \u001b[43mfrequency_dict\u001b[49m\u001b[43m[\u001b[49m\u001b[38;5;124;43m\"\u001b[39;49m\u001b[38;5;124;43mimprobable\u001b[39;49m\u001b[38;5;124;43m\"\u001b[39;49m\u001b[43m]\u001b[49m\n",
      "\u001b[0;31mKeyError\u001b[0m: 'improbable'"
     ]
    }
   ],
   "source": [
    "frequency_dict[\"improbable\"]"
   ]
  },
  {
   "cell_type": "markdown",
   "id": "d2fd0e1b-3240-4bea-8833-6bfe131fe6a3",
   "metadata": {},
   "source": [
    "DIVISION THE STRING INTO A LIST OF WORDS"
   ]
  },
  {
   "cell_type": "code",
   "execution_count": null,
   "id": "d700f3b9-9e14-4844-8748-cb67e3bc4054",
   "metadata": {},
   "outputs": [],
   "source": [
    "line = \"city; then of the figure of a man walking swiftly; then of a child\"\n",
    "\n",
    "word_list = line.split()\n",
    "frequency_dict = {}\n",
    "\n",
    "for word in word_list:\n",
    "    if word in frequency_dict:\n",
    "        frequency_dict[word] += 1\n",
    "    else:\n",
    "        frequency_dict[word] = 1\n",
    "\n",
    "print(frequency_dict)"
   ]
  },
  {
   "cell_type": "markdown",
   "id": "1a711772-3bac-45c1-a531-7f08c149dc67",
   "metadata": {},
   "source": [
    "Let's find out how often each word appears in the whole book."
   ]
  },
  {
   "cell_type": "code",
   "execution_count": null,
   "id": "ebdb6e2a-51d7-4aec-860b-1b3e9c996886",
   "metadata": {},
   "outputs": [],
   "source": [
    "reader = open('data/jekyll.txt')\n",
    "\n",
    "frequency_dict = {}\n",
    "\n",
    "for line in reader:\n",
    "    for word in line.split():\n",
    "        if word in frequency_dict:\n",
    "            frequency_dict[word] += 1\n",
    "        else:\n",
    "            frequency_dict[word] = 1\n",
    "print(frequency_dict[\"premonitory\"])"
   ]
  },
  {
   "cell_type": "markdown",
   "id": "8ac0ccce-5501-4002-bdf4-080416c0c737",
   "metadata": {
    "jp-MarkdownHeadingCollapsed": true,
    "tags": []
   },
   "source": [
    "# Lesson  3: Counting Unique Words"
   ]
  },
  {
   "cell_type": "markdown",
   "id": "14ec3fba-dcf9-4163-aa1a-3fbb37205a78",
   "metadata": {},
   "source": [
    "Up to now, we have used dicdtionary to count unique words. "
   ]
  },
  {
   "cell_type": "code",
   "execution_count": null,
   "id": "569e4f2b-d222-4ec7-ab2f-5cf989332b89",
   "metadata": {},
   "outputs": [],
   "source": [
    "reader = open('data/jekyll.txt')\n",
    "frequency_dict = {}\n",
    "\n",
    "for line in reader:\n",
    "    for word in line.split():\n",
    "        if word in frequency_dict:\n",
    "            frequency_dict[word] += 1\n",
    "        else:\n",
    "            frequency_dict[word] = 1\n",
    "print(len(frequency_dict))"
   ]
  },
  {
   "cell_type": "markdown",
   "id": "f8db7738-9d6b-4fa4-9cb0-22d89547572f",
   "metadata": {},
   "source": [
    "Are the words in a dictionary unique? Let's see! Let's print some of dictionary keys."
   ]
  },
  {
   "cell_type": "code",
   "execution_count": null,
   "id": "6dd86a7a-5038-4ffb-bc5f-8c9836f90a71",
   "metadata": {},
   "outputs": [],
   "source": [
    "word_list = list(frequency_dict)\n",
    "for i in range(0,25):\n",
    "    word = word_list[i]\n",
    "    print(word, end=' ')\n",
    "\n",
    "#sorted(word_list[:25])"
   ]
  },
  {
   "cell_type": "markdown",
   "id": "664ef0d7-6d98-4f91-bb7b-62fef0304483",
   "metadata": {},
   "source": [
    "We need to remove punctuation as period and comma and unify the letters to lower. WE use functions: ```strip()``` and ```lower()```."
   ]
  },
  {
   "cell_type": "code",
   "execution_count": null,
   "id": "8dfadae2-4fbc-4e39-8d25-f680993318bf",
   "metadata": {},
   "outputs": [],
   "source": [
    "# test\n",
    "initial_string = \",,,Mr. Hyde.,\"\n",
    "lowered_string = initial_string.lower()\n",
    "final_string = lowered_string.strip(\".d,e\")\n",
    "print(final_string)"
   ]
  },
  {
   "cell_type": "markdown",
   "id": "2469f356-98de-4174-8ca7-696f3dcf00f8",
   "metadata": {},
   "source": [
    "REMOVING PUNCTUATION WITH ```STRIP()```"
   ]
  },
  {
   "cell_type": "code",
   "execution_count": null,
   "id": "6793edf9-413d-49b2-984f-4d32ef6a65b7",
   "metadata": {},
   "outputs": [],
   "source": [
    "punctuation = \".;,-\\\"'?-`!()_\""
   ]
  },
  {
   "cell_type": "code",
   "execution_count": null,
   "id": "c0817b58-6798-468d-9aa7-2b132f533ce4",
   "metadata": {},
   "outputs": [],
   "source": [
    "initial_string = \"_(Hello!?.,\"\n",
    "cleaned_string = initial_string.lower().strip(punctuation)\n",
    "print(cleaned_string)"
   ]
  },
  {
   "cell_type": "markdown",
   "id": "e11dd78b-ada7-4942-af47-86db6924ef39",
   "metadata": {},
   "source": [
    "ZASTOSOWANIE DO CALEGO TEKSTU"
   ]
  },
  {
   "cell_type": "code",
   "execution_count": null,
   "id": "884e6623-ab6d-4ddb-bf16-ebcc66c767c9",
   "metadata": {},
   "outputs": [],
   "source": [
    "reader = open('data/jekyll.txt')\n",
    "\n",
    "punctuation = \".;,-\\\"':?-`!()_~\"\n",
    "\n",
    "freq_dic = {}\n",
    "for line in reader:\n",
    "    for word in line.split():\n",
    "        cleaned_word = word.lower().strip(punctuation)\n",
    "        if cleaned_word in freq_dic:\n",
    "            freq_dic[cleaned_word] += 1\n",
    "        else:\n",
    "            freq_dic[cleaned_word] = 1\n",
    "print(len(freq_dic))\n",
    "        "
   ]
  },
  {
   "cell_type": "markdown",
   "id": "9b79ee63-78e3-416b-8fa0-1064ed3cb696",
   "metadata": {},
   "source": [
    "### USING A COUNTER"
   ]
  },
  {
   "cell_type": "markdown",
   "id": "b280bfb2-4b3e-4080-b425-441aa85a8ed3",
   "metadata": {},
   "source": [
    "The ```Counter``` from ```collections```. In many ways a ```Counter``` is like a dictionary. "
   ]
  },
  {
   "cell_type": "code",
   "execution_count": null,
   "id": "0527d9ca-16ac-4df1-8fa1-cdb5b38f4178",
   "metadata": {},
   "outputs": [],
   "source": [
    "from collections import Counter\n",
    "\n",
    "counter = Counter()\n",
    "counter[\"the\"] += 1\n",
    "counter[\"and\"] += 1 \n",
    "counter[\"the\"] += 1\n",
    "\n",
    "print(counter)"
   ]
  },
  {
   "cell_type": "markdown",
   "id": "94da8c4c-41bf-412a-879b-923c8243dc28",
   "metadata": {},
   "source": [
    "The keys are updated and accessed using the same syntax as a dictionary, however there is ```one big difference!```"
   ]
  },
  {
   "cell_type": "code",
   "execution_count": null,
   "id": "78b45a73-5486-4855-a7b5-58e9fef8ef43",
   "metadata": {},
   "outputs": [],
   "source": [
    "counter = Counter()\n",
    "\n",
    "word = 'horror'\n",
    "\n",
    "for letter in word:\n",
    "    counter[letter] += 1\n",
    "    \n",
    "print(counter['r'])"
   ]
  },
  {
   "cell_type": "code",
   "execution_count": null,
   "id": "f927445d-61d7-46b8-8b4e-9f025054e974",
   "metadata": {},
   "outputs": [],
   "source": [
    "counter = Counter(\"horror\")\n",
    "key = 's'\n",
    "print(key, counter[key])"
   ]
  },
  {
   "cell_type": "code",
   "execution_count": null,
   "id": "95ffe21a-d576-4d7f-a694-ad02d0a9f209",
   "metadata": {},
   "outputs": [],
   "source": [
    "counter"
   ]
  },
  {
   "cell_type": "markdown",
   "id": "3a442e4c-dc82-492f-8dec-fc1efd67306c",
   "metadata": {},
   "source": [
    "If the key is not in the ```Counter```, it's not an error - the result is 0"
   ]
  },
  {
   "cell_type": "code",
   "execution_count": null,
   "id": "e3351f00-3968-444d-8c83-b06471828c23",
   "metadata": {},
   "outputs": [],
   "source": [
    "counter = Counter('horror')\n",
    "key = 's'\n",
    "print(\"Before:\", key, counter[key])\n",
    "counter[key] += 1\n",
    "print(\"After:\", key, counter[key])"
   ]
  },
  {
   "cell_type": "markdown",
   "id": "75e2d380-da30-47f5-ab1c-d238eb19580f",
   "metadata": {},
   "source": [
    "----"
   ]
  },
  {
   "cell_type": "markdown",
   "id": "3a2e5edb-900d-454a-99b2-726007919718",
   "metadata": {
    "jp-MarkdownHeadingCollapsed": true,
    "tags": []
   },
   "source": [
    "### Testy typu ```Counter``` na podstawie opisu i przykładów z chcatGPT"
   ]
  },
  {
   "cell_type": "code",
   "execution_count": null,
   "id": "1e0fb9cf-232b-4875-a41f-759813aab58e",
   "metadata": {},
   "outputs": [],
   "source": [
    "c = Counter(\"1,2,3,1,2,6,7\")\n",
    "c"
   ]
  },
  {
   "cell_type": "code",
   "execution_count": null,
   "id": "99d5fa12-e18a-4631-95ae-29658e76dae0",
   "metadata": {},
   "outputs": [],
   "source": [
    "list_example = ['apple', 'banana', 'apple', 'orange', 'banana', 'apple']\n",
    "counter_list = Counter(list_example)\n",
    "print(counter_list)"
   ]
  },
  {
   "cell_type": "code",
   "execution_count": null,
   "id": "f7d9c540-e52a-442d-9fe5-7213d7415270",
   "metadata": {},
   "outputs": [],
   "source": [
    "list_example =  [10,20,30,20,30,40,50,60,30,40,50,10,20,20]\n",
    "counter_list = Counter(list_example)\n",
    "print(counter_list)"
   ]
  },
  {
   "cell_type": "code",
   "execution_count": null,
   "id": "2b718786-204e-4a45-b816-0df4c30a6703",
   "metadata": {},
   "outputs": [],
   "source": [
    "counter = Counter()\n",
    "counter.update(\"hello\")\n",
    "counter.update([\"hello\", \"world\", \"hello\"])\n",
    "print(counter)"
   ]
  },
  {
   "cell_type": "markdown",
   "id": "ae1d862f-3df6-4318-aa36-2310ddb09798",
   "metadata": {},
   "source": [
    "UWAGA!!! ALE FAJNE ZACHOWANIE PONIZEJ"
   ]
  },
  {
   "cell_type": "code",
   "execution_count": null,
   "id": "904907f7-d36f-4cb5-81a4-9ebc8be38123",
   "metadata": {},
   "outputs": [],
   "source": [
    "counter = Counter()\n",
    "counter.update(\"hello\")\n",
    "print(counter)\n",
    "counter.update([\"hello\", \"world\", \"hello\"])\n",
    "print(counter)"
   ]
  },
  {
   "cell_type": "code",
   "execution_count": null,
   "id": "905689ff-b56e-4bca-9c07-20baa09c24dc",
   "metadata": {},
   "outputs": [],
   "source": [
    "counter = Counter(\"mississippi\")\n",
    "print(counter.most_common(2))\n",
    "# Output: [('i', 4), ('s', 4)]\n"
   ]
  },
  {
   "cell_type": "markdown",
   "id": "dc1e980a-81d8-4662-88b6-dea38729c68d",
   "metadata": {},
   "source": [
    "---"
   ]
  },
  {
   "cell_type": "markdown",
   "id": "5f86fde5-5a76-46f8-8065-27092fd48dcc",
   "metadata": {},
   "source": [
    "### ciag dalszy cwiczenia"
   ]
  },
  {
   "cell_type": "markdown",
   "id": "271003d9-ef4d-4c45-b38d-f5bfe51f1c7e",
   "metadata": {},
   "source": [
    "Very useful method for ```Counter``` is ``most_common()```"
   ]
  },
  {
   "cell_type": "code",
   "execution_count": null,
   "id": "1642b20d-2d9b-47cc-b29c-148a4a7c3c1d",
   "metadata": {},
   "outputs": [],
   "source": [
    "passage = \"You start a question, and it's like starting a stone. You sit quietly on the top af a gill' and sway the sonte goes, starting others.\"\n",
    "\n",
    "counter = Counter()\n",
    "for word in passage.split():\n",
    "    counter[word] += 1\n",
    "print(counter.most_common(5))"
   ]
  },
  {
   "cell_type": "code",
   "execution_count": null,
   "id": "34a0383b-4a86-4611-871a-219a1bf984c4",
   "metadata": {},
   "outputs": [],
   "source": [
    "reader = open('data/jekyll.txt')\n",
    "\n",
    "word_counts = Counter()\n",
    "\n",
    "for line in reader:\n",
    "    for word in line.split():\n",
    "        clean_word = word.strip(\".;,-\\\"':?-`!()_~\").lower()\n",
    "        word_counts[clean_word] += 1\n",
    "        \n",
    "print(word_counts['hyde'])"
   ]
  },
  {
   "cell_type": "code",
   "execution_count": null,
   "id": "aa08c28e-dfc1-41e3-b2c9-2407e2874211",
   "metadata": {},
   "outputs": [],
   "source": [
    "print(word_counts.most_common(2))"
   ]
  },
  {
   "cell_type": "markdown",
   "id": "c891de2e-cd49-4ab6-b7af-b489aff0db09",
   "metadata": {
    "jp-MarkdownHeadingCollapsed": true,
    "tags": []
   },
   "source": [
    "# Lesson 4: Bigrams and Mutability"
   ]
  },
  {
   "cell_type": "markdown",
   "id": "39bf4842-a67a-4c5f-bd47-585fe51cc19d",
   "metadata": {},
   "source": [
    "To predict the next word, we need to consider ```bigrams``` — two-word sequences. We can find how often bigram (sequence of two words) appera in the sentence using a ```two word window``` stored in a list. "
   ]
  },
  {
   "cell_type": "code",
   "execution_count": null,
   "id": "68d1d3c3-f625-419a-834d-8c441e04eec5",
   "metadata": {},
   "outputs": [],
   "source": [
    "window = []\n",
    "sentence_string = \"Where Utterson was liked, he was liked well.\"\n",
    "sentence = sentence_string.split()\n",
    "for word in sentence:\n",
    "    window.append(word)\n",
    "    print(window)"
   ]
  },
  {
   "cell_type": "code",
   "execution_count": null,
   "id": "ea83cc7e-c438-4a92-968b-b0752ca53131",
   "metadata": {},
   "outputs": [],
   "source": [
    "window = []\n",
    "sentence_string = \"Where Utterson was liked, he was liked well.\"\n",
    "sentence = sentence_string.split()\n",
    "for word in sentence:\n",
    "    window.append(word)   \n",
    "    print(window)\n",
    "    window.pop(0)"
   ]
  },
  {
   "cell_type": "code",
   "execution_count": null,
   "id": "ee0e40ea-8934-4745-ad28-75d39d651762",
   "metadata": {},
   "outputs": [],
   "source": [
    "window = []\n",
    "sentence_string = \"Where Utterson was liked, he was liked well.\"\n",
    "sentence = sentence_string.split()\n",
    "for word in sentence: \n",
    "    window.append(word)\n",
    "    if len(window) >= 2:               \n",
    "        print(window)\n",
    "        window.pop(0)\n",
    "   "
   ]
  },
  {
   "cell_type": "markdown",
   "id": "a63679d2-3a65-4013-8b2d-e7fc882f366b",
   "metadata": {},
   "source": [
    "To bild an ```n-gram model``` bigram must to be stored in a data."
   ]
  },
  {
   "cell_type": "markdown",
   "id": "9d6fb041-fec1-433c-9954-95b0a464f2a8",
   "metadata": {},
   "source": [
    "MUTABLE vs. IMMUTABLE"
   ]
  },
  {
   "cell_type": "code",
   "execution_count": null,
   "id": "4ad1ddb9-f077-4e33-bf33-50e2ce9ef3ef",
   "metadata": {},
   "outputs": [],
   "source": [
    "# STRING\n",
    "my_string = \"DR. JEKYLL WAS QUITE AT EASE\"\n",
    "my_string.lower()\n",
    "print(my_string)"
   ]
  },
  {
   "cell_type": "code",
   "execution_count": null,
   "id": "ef5a1436-cbea-4c86-b6e0-4f7d020a2e02",
   "metadata": {},
   "outputs": [],
   "source": [
    "# STRING\n",
    "my_string = \"DR. JEKYLL WAS QUITE AT EASE\"\n",
    "my_new_string = my_string.lower()\n",
    "print(my_string)\n",
    "print(my_new_string)"
   ]
  },
  {
   "cell_type": "code",
   "execution_count": null,
   "id": "8f6aca40-c69c-440a-ace9-c98d3fb0b407",
   "metadata": {},
   "outputs": [],
   "source": [
    "# DICTIONARY\n",
    "my_dict = {\"Title\": \"Dr\", \"Surname\": \"Jekyll\"}\n",
    "my_dict.pop(\"Surname\")\n",
    "print(my_dict)\n"
   ]
  },
  {
   "cell_type": "code",
   "execution_count": null,
   "id": "7a6d59ec-912d-4647-ad14-65d7a903d606",
   "metadata": {},
   "outputs": [],
   "source": [
    "# TUPLE\n",
    "\n",
    "bigram_list = [\"Strange\", \"Case\"]\n",
    "bigram_tuple = tuple(bigram_list)\n",
    "print(bigram_tuple)"
   ]
  },
  {
   "cell_type": "markdown",
   "id": "fde320a4-7842-454c-90e7-e85494ab603e",
   "metadata": {},
   "source": [
    "The results of this program show that ```my_string``` has not changed — it is still uppercase. ```my_new_string``` was created with the result of ```my_string.lower()```, and prints as lower case. This shows that ```lower()``` does not change the original string, but does **return a new string of lower case letters**.\n",
    "\n",
    "Unlike strings, ```lists are mutable``` — they can change — and that's ``why we can't use them as keys in a dictionary.``\n",
    "\n",
    "\n",
    "| Data type    | Center-aligned | Right-aligned |\n",
    "|:-------------|:--------------:|--------------:|\n",
    "| Tuple        | IMMUTABLE      |               |\n",
    "| String       | IMMUTABLE      |               |\n",
    "| List         |                | MUTABLE       |\n",
    "| Dictionary   |                | MUTABLE       |\n",
    "| Counter      |                | MUTABLE       |\n",
    "\n",
    "```Dictionaries and counters are mutable, but their keys can't be.```"
   ]
  },
  {
   "cell_type": "markdown",
   "id": "25e545ce-cd11-40f2-b906-87578e1f7798",
   "metadata": {
    "jp-MarkdownHeadingCollapsed": true,
    "tags": []
   },
   "source": [
    "# Lesson 5: Bigram freqyency and tuples"
   ]
  },
  {
   "cell_type": "markdown",
   "id": "a5cc613c-eb56-4d3a-9789-69e9eb2b8bf5",
   "metadata": {},
   "source": [
    "To predict the next word in a sentence, we need to compare the frequency of **bigrams**, by building a bigram counter. \n",
    "``window`` is a list, and lists are mutable. Counters and dictionaries need immutable objects such as strings or tuples to act as keys."
   ]
  },
  {
   "cell_type": "code",
   "execution_count": null,
   "id": "4fd6c78e-e5e3-45a7-a67e-433c4d8b5424",
   "metadata": {},
   "outputs": [],
   "source": [
    "from collections import Counter\n",
    "\n",
    "window = []\n",
    "sentence = 'Where Utterson was liked, he was liked well.'.split()\n",
    "bigram_counter = Counter()\n",
    "\n",
    "for word in sentence:\n",
    "    window.append(word)\n",
    "    if len(window) >= 2:\n",
    "        bigram_counter[tuple(window)] += 1\n",
    "        window.pop(0)\n",
    "print(bigram_counter)      "
   ]
  },
  {
   "cell_type": "code",
   "execution_count": null,
   "id": "a6b12ff4-10cd-4b15-8fde-a09f12bc78ba",
   "metadata": {},
   "outputs": [],
   "source": [
    "from collections import Counter\n",
    "punctuation = \".;,-\\\"'?-`!()_\"\n",
    "window = []\n",
    "sentence = 'Where Utterson was liked, he was liked well.'.split()\n",
    "bigram_counter = Counter()\n",
    "for word in sentence:\n",
    "    cleaned_word = word.strip(punctuation).lower()\n",
    "    window.append(cleaned_word)\n",
    "    if len(window) >=2:\n",
    "        print(window)\n",
    "        bigram_counter[tuple(window)] += 1\n",
    "        window.pop(0)\n",
    "print()        \n",
    "print(bigram_counter)"
   ]
  },
  {
   "cell_type": "markdown",
   "id": "947e0e51-3781-4a8b-a249-a823bb2fe028",
   "metadata": {},
   "source": [
    "Now we can use our code to count all the bigrams in the text of The Strange Case of Dr. Jekyll and Mr. Hyde."
   ]
  },
  {
   "cell_type": "code",
   "execution_count": null,
   "id": "1f9b452a-2703-4bfd-aebd-9b2da782985c",
   "metadata": {},
   "outputs": [],
   "source": [
    "reader = open('data/jekyll.txt')\n",
    "from collections import Counter\n",
    "bigram_counter = Counter()\n",
    "window = []\n",
    "punctuation = \".;,-\\\"'?-`!()_\"\n",
    "for line in reader:\n",
    "    for word in line.split():\n",
    "        clean_word = word.strip(punctuation).lower()\n",
    "        window.append(clean_word)\n",
    "        if len(window) >= 2:\n",
    "            window_tuple = tuple(window)\n",
    "            bigram_counter[window_tuple] += 1\n",
    "            window.pop()\n",
    "            \n",
    "print(len(bigram_counter))\n",
    "print(bigram_counter.most_common(4))\n",
    "print()\n"
   ]
  },
  {
   "cell_type": "markdown",
   "id": "649923f0-fe89-40ee-9a18-896a85d570a5",
   "metadata": {},
   "source": [
    "We can retrieve the count of a specific bigram with the code bigram_counter[(\"word1\", \"word2\")]"
   ]
  },
  {
   "cell_type": "code",
   "execution_count": null,
   "id": "d784a3c0-7457-4304-96b2-c5135f03c5b8",
   "metadata": {},
   "outputs": [],
   "source": [
    "print(bigram_counter[(\"the\",\"door\")])"
   ]
  },
  {
   "cell_type": "markdown",
   "id": "8be37239-8c7f-4ed5-b28d-4300bbea1c28",
   "metadata": {},
   "source": [
    "We can check how often each character appears in the text by looking up their names as bigrams.\n",
    "\n"
   ]
  },
  {
   "cell_type": "code",
   "execution_count": null,
   "id": "4245a224-9ed7-4e76-8f19-40110d9c5208",
   "metadata": {},
   "outputs": [],
   "source": [
    "print(bigram_counter[(\"mr\",\"hyde\")])\n",
    "print(bigram_counter[(\"dr\",\"jekyll\")])\n",
    "print(bigram_counter[(\"mr\",\"utterson\")])\n",
    "print(bigram_counter[(\"the\",\"door\")])"
   ]
  },
  {
   "cell_type": "markdown",
   "id": "7f77e840-9790-4594-bacb-66264cc9e195",
   "metadata": {},
   "source": [
    "Counting bigrams is an important step on the way to generating new text. Next, we'll start an n-gram analysis by making a dictionary that maps from each word to a list of words that can follow."
   ]
  },
  {
   "cell_type": "markdown",
   "id": "ef1443c8-968e-4117-b0c8-44ff5e4716ea",
   "metadata": {
    "tags": []
   },
   "source": [
    "# Lesson 6: Bigram Analysis"
   ]
  },
  {
   "cell_type": "markdown",
   "id": "733431f6-62ce-4338-858b-c058f9abd765",
   "metadata": {},
   "source": [
    "Generate new text based on a map of the original content. ```N-Gram analysis```. Now we'll use them to generate random text in the style of Jekyll and Hyde.\n",
    "\n"
   ]
  },
  {
   "cell_type": "markdown",
   "id": "8614c6df-44fc-40fd-8646-c06a9eeefb3c",
   "metadata": {},
   "source": [
    "To predict the next word, we want to map every word in the text to a list of other words that could follow it.\n",
    "\n",
    "words-that-follow:\n",
    "\n",
    "'apple' ->>> ['tree', 'pie', 'sauce', 'juice','seed', ...]\n",
    "\n",
    "'door' -> ['knob', 'bell','frame', 'hinge','mat', ...]\n"
   ]
  },
  {
   "cell_type": "code",
   "execution_count": 14,
   "id": "f79a6a8a-fb7d-44ec-b667-cc7c35c7e8d2",
   "metadata": {},
   "outputs": [
    {
     "name": "stdout",
     "output_type": "stream",
     "text": [
      "{'the': ['honour']}\n"
     ]
    }
   ],
   "source": [
    "successor_map = {}\n",
    "bigram = (\"the\", \"honour\")\n",
    "successor_map[\"the\"] = [\"honour\"]\n",
    "print(successor_map)"
   ]
  },
  {
   "cell_type": "code",
   "execution_count": 15,
   "id": "788ac083-c409-40f3-86fd-b8f82e2c40f3",
   "metadata": {},
   "outputs": [
    {
     "name": "stdout",
     "output_type": "stream",
     "text": [
      "{'the': ['honour', 'sanity'], 'honour': ['the']}\n"
     ]
    }
   ],
   "source": [
    "successor_map = {}\n",
    "\n",
    "bigram1 = ('the', 'honour')\n",
    "bigram2 = ('honour','the')\n",
    "bigram3 = ('the', 'sanity')\n",
    "\n",
    "bigrams = (bigram1, bigram2, bigram3)\n",
    "\n",
    "for bigram in bigrams:\n",
    "    if bigram[0] not in successor_map:\n",
    "        successor_map[bigram[0]] = [bigram[1]]\n",
    "    else:\n",
    "        successor_map[bigram[0]].append(bigram[1])\n",
    "print(successor_map)"
   ]
  },
  {
   "cell_type": "markdown",
   "id": "c614aefe-ff3e-4763-af75-d9270efacf0d",
   "metadata": {},
   "source": [
    "succesor_map for the whole text"
   ]
  },
  {
   "cell_type": "code",
   "execution_count": 16,
   "id": "14520621-2c1b-4b99-be50-9124d0fef964",
   "metadata": {},
   "outputs": [
    {
     "name": "stdout",
     "output_type": "stream",
     "text": [
      "['things', 'in']\n"
     ]
    }
   ],
   "source": [
    "reader = open('data/jekyll.txt')\n",
    "successor_map = {}\n",
    "window = []\n",
    "punctuation = \".;,-\\\"'?-`!()_\"\n",
    "\n",
    "for line in reader:\n",
    "    for word in line.split():\n",
    "        clean_word = word.strip(punctuation).lower()\n",
    "        window.append(clean_word)\n",
    "        \n",
    "        if len(window) == 2:\n",
    "            if window[0] not in successor_map:\n",
    "                successor_map[window[0]] = [window[1]]\n",
    "            else:\n",
    "                successor_map[window[0]].append(window[1])\n",
    "            window.pop(0)\n",
    "            \n",
    "print(successor_map['mysterious'])\n",
    "        "
   ]
  },
  {
   "cell_type": "code",
   "execution_count": 17,
   "id": "943e9469-7610-44a4-924a-8e807f3797ba",
   "metadata": {},
   "outputs": [
    {
     "name": "stdout",
     "output_type": "stream",
     "text": [
      "['mr', 'on', 'which', 'at', 'in', 'and', 'to', 'of', 'in', 'crossing', 'and', 'of', '“is', 'she', 'and', 'where', 'covered', 'possibly', 'was', 'is', 'of', 'both', 'was', 'with', '“mr', 'and', 'was', 'where', 'you', 'we', 'poole!”', 'leaped', 'fell', 'on', 'they', 'in', 'of', 'and', 'of', 'was', 'stood', 'i', 'give', 'and', 'by', 'i']\n"
     ]
    }
   ],
   "source": [
    "print(successor_map['door'])"
   ]
  },
  {
   "cell_type": "markdown",
   "id": "bef1446b-7c04-43dc-b88b-2134567544af",
   "metadata": {},
   "source": [
    "Generating Text"
   ]
  },
  {
   "cell_type": "markdown",
   "id": "1bbe0a03-78b3-4506-bed8-b71928bc1ad9",
   "metadata": {},
   "source": [
    "There are multiple words a successor_map."
   ]
  },
  {
   "cell_type": "code",
   "execution_count": 18,
   "id": "6e31bc3c-ab17-48c6-9481-1c4ca42c8563",
   "metadata": {},
   "outputs": [
    {
     "name": "stdout",
     "output_type": "stream",
     "text": [
      "['mr', 'the', 'the', 'the', 'the', 'poole', 'utterson']\n"
     ]
    }
   ],
   "source": [
    "word = 'continued'\n",
    "successors = successor_map[word]\n",
    "print(successors)"
   ]
  },
  {
   "cell_type": "markdown",
   "id": "62a2a21c-9a5c-4afd-a575-0cabb01a7b80",
   "metadata": {},
   "source": [
    "While we randomly select a word, we shuld take into account frequency of its appereance in a successor_map. To do this we uese ```ranodm``` module."
   ]
  },
  {
   "cell_type": "code",
   "execution_count": 24,
   "id": "cfda4a44-21f4-4dc4-a599-523458352941",
   "metadata": {},
   "outputs": [
    {
     "name": "stdout",
     "output_type": "stream",
     "text": [
      "['mr', 'the', 'the', 'the', 'the', 'poole', 'utterson']\n",
      "\n",
      "the\n"
     ]
    }
   ],
   "source": [
    "import random\n",
    "word0 = 'continued'\n",
    "successors = successor_map[word0]\n",
    "\n",
    "word1 = random.choice(successor_map[word0])\n",
    "print(successors)\n",
    "print()\n",
    "print(word1)"
   ]
  },
  {
   "cell_type": "code",
   "execution_count": 30,
   "id": "b243562e-301b-4edf-9c85-4d231b3de059",
   "metadata": {},
   "outputs": [
    {
     "name": "stdout",
     "output_type": "stream",
     "text": [
      "utterson, the, utterson, mr, mr, the, mr, "
     ]
    }
   ],
   "source": [
    "for _ in range(7):\n",
    "    word1 = random.choice(successor_map[word0])\n",
    "    print(word1, end=', ')"
   ]
  },
  {
   "cell_type": "markdown",
   "id": "0052d9ce-85a6-45ce-b64d-344324bd9d27",
   "metadata": {},
   "source": [
    "GENERATION OF SEQUENCE OF WORD"
   ]
  },
  {
   "cell_type": "code",
   "execution_count": 36,
   "id": "ca9b431f-b751-4fb4-8f25-3e972a8c605b",
   "metadata": {},
   "outputs": [
    {
     "name": "stdout",
     "output_type": "stream",
     "text": [
      "continued mr utterson\n"
     ]
    }
   ],
   "source": [
    "# ... program continues ...\n",
    "import random\n",
    "word0 = \"continued\"\n",
    "word1 = random.choice(successor_map[word0])\n",
    "word2 = random.choice(successor_map[word1])\n",
    "print(word0, word1, word2)"
   ]
  },
  {
   "cell_type": "markdown",
   "id": "aac8c977-6103-4233-bec4-21c4301a8fdc",
   "metadata": {},
   "source": [
    "Although we want our model's output to be random, it can be helpful to get repeatable results when testing the code. \n",
    "We can achieve that by adding the line random.seed(n) to the start of the program, where n is a number. The text generated depends on the value of n."
   ]
  },
  {
   "cell_type": "code",
   "execution_count": 41,
   "id": "dac474bb-92bc-457c-9138-b1752d9a9ec3",
   "metadata": {},
   "outputs": [
    {
     "name": "stdout",
     "output_type": "stream",
     "text": [
      "continued the door\n"
     ]
    }
   ],
   "source": [
    "# ... program continues ...\n",
    "import random\n",
    "random.seed(100)\n",
    "word0 = \"continued\"\n",
    "word1 = random.choice(successor_map[word0])\n",
    "word2 = random.choice(successor_map[word1])\n",
    "print(word0, word1, word2)"
   ]
  },
  {
   "cell_type": "code",
   "execution_count": 42,
   "id": "ab1a8d0e-4a59-4e1e-874a-c2ef777682e1",
   "metadata": {},
   "outputs": [
    {
     "name": "stdout",
     "output_type": "stream",
     "text": [
      "the world about that my poor old friend “h.j “p.s.—i had not only nodded “once,” "
     ]
    }
   ],
   "source": [
    "# ... program continues ...\n",
    "random.seed(6)\n",
    "word = 'the'\n",
    "\n",
    "for i in range(15):\n",
    "  print(word, end=' ') # this prints the words on a single line\n",
    "  # add your code here to get the next word.\n",
    "  word1 = random.choice(successor_map[word])\n",
    "  word = word1"
   ]
  },
  {
   "cell_type": "markdown",
   "id": "cf8fa95d-d3f1-47b6-9cef-744aa4073adc",
   "metadata": {},
   "source": [
    "Removing random.seed(n) from the program allows us to generate a different sequence of words every time."
   ]
  },
  {
   "cell_type": "code",
   "execution_count": 44,
   "id": "a0ed8b64-e1e5-4269-90ce-cead02cf1e8e",
   "metadata": {},
   "outputs": [
    {
     "name": "stdout",
     "output_type": "stream",
     "text": [
      "the other half fainting and hyde had not truly one ends and as he found "
     ]
    }
   ],
   "source": [
    "# ... program continues ...\n",
    "word = 'the'\n",
    "for i in range(15):\n",
    "  print(word, end=' ') # this prints the words on a single line\n",
    "  word = random.choice(successor_map[word])"
   ]
  },
  {
   "cell_type": "markdown",
   "id": "12adfa24-8bc5-4410-aae5-19885f85bae5",
   "metadata": {},
   "source": [
    "We have built a simple n-gram model, which uses only one word to choose the next one. This word is called the ```context```. \n",
    "With only a one-word context, the results don't make much sense. In the next lesson, we'll see if we can do better with two words of context."
   ]
  },
  {
   "cell_type": "markdown",
   "id": "ff600e0e-d40b-4c8d-9496-15034f110c73",
   "metadata": {},
   "source": [
    "# Lesson 7: Building a language model"
   ]
  },
  {
   "cell_type": "code",
   "execution_count": null,
   "id": "e76ec375-1946-4d1d-814b-96a1e730a6d2",
   "metadata": {},
   "outputs": [],
   "source": []
  }
 ],
 "metadata": {
  "kernelspec": {
   "display_name": "py38",
   "language": "python",
   "name": "py38"
  },
  "language_info": {
   "codemirror_mode": {
    "name": "ipython",
    "version": 3
   },
   "file_extension": ".py",
   "mimetype": "text/x-python",
   "name": "python",
   "nbconvert_exporter": "python",
   "pygments_lexer": "ipython3",
   "version": "3.8.12"
  }
 },
 "nbformat": 4,
 "nbformat_minor": 5
}
