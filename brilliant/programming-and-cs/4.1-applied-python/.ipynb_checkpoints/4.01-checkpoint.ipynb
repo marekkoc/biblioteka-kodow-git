{
 "cells": [
  {
   "cell_type": "markdown",
   "id": "611a0676-cffb-4328-b711-baebce660769",
   "metadata": {},
   "source": [
    "### Brilliant\n",
    "\n",
    "## 4.1 Programming and CS\n",
    "\n",
    "# N-GRAM MODEL\n",
    "\n",
    "\n",
    "@author: mk\n",
    "\n",
    "Created: 2024.10.31\n",
    "\n",
    "Modified: 2024.10.31"
   ]
  },
  {
   "cell_type": "markdown",
   "id": "c9a4f187-e946-4161-8bb9-27664d0cd8f7",
   "metadata": {
    "tags": []
   },
   "source": [
    "# Lesson 1: Turning text into data"
   ]
  },
  {
   "cell_type": "code",
   "execution_count": 7,
   "id": "64f6acec-8025-47dc-893a-617d6bacedf0",
   "metadata": {},
   "outputs": [],
   "source": [
    "filename = 'data/jekyll.txt'\n",
    "reader = open(filename)"
   ]
  },
  {
   "cell_type": "markdown",
   "id": "cc0c812c-7257-4d42-8be5-aa42ae15f040",
   "metadata": {},
   "source": [
    "Reader is a file object, it doesn't print the text.\n",
    "A file object is a special Python data type for accessing and manipulating files stroed on a computer or a server.\n"
   ]
  },
  {
   "cell_type": "code",
   "execution_count": 8,
   "id": "556bd10a-0e13-4ca9-a9f9-065990fa7102",
   "metadata": {},
   "outputs": [],
   "source": [
    "# print(reader)"
   ]
  },
  {
   "cell_type": "markdown",
   "id": "ceb8deed-e96c-48d9-9fcb-f1233558a461",
   "metadata": {},
   "source": [
    "file objects provide the method ```readlines()``` that returns a **list**"
   ]
  },
  {
   "cell_type": "code",
   "execution_count": 9,
   "id": "609c7048-76ca-4f63-924e-4f9487234732",
   "metadata": {},
   "outputs": [
    {
     "name": "stdout",
     "output_type": "stream",
     "text": [
      "['The Strange Case Of Dr. Jekyll And Mr. Hyde\\n', 'by Robert Louis Stevenson\\n', '\\n', 'STORY OF THE DOOR\\n', '\\n', 'Mr. Utterson the lawyer was a man of a rugged countenance that was\\n', 'never lighted by a smile; cold, scanty and embarrassed in discourse;\\n']\n"
     ]
    }
   ],
   "source": [
    "lines = reader.readlines()\n",
    "\n",
    "print(lines[:7])"
   ]
  },
  {
   "cell_type": "markdown",
   "id": "5fc98f20-371a-4285-9aa5-748084d4deb6",
   "metadata": {},
   "source": [
    "Another approach is to define a ```for``` loop"
   ]
  },
  {
   "cell_type": "code",
   "execution_count": 11,
   "id": "eadac316-bd57-43b3-9907-e5f4f41d516d",
   "metadata": {},
   "outputs": [],
   "source": [
    "reader = open('data/jekyll.txt')\n",
    "\n",
    "for line in reader:\n",
    "    #print(line)\n",
    "    pass"
   ]
  },
  {
   "cell_type": "markdown",
   "id": "4246f96f-6cfd-489f-9668-53bbb47ff820",
   "metadata": {},
   "source": [
    "Fro the n-grams analysis it is helpful to know how many lines are in the file.\n",
    "\n",
    "**NUMBER OF LINES**"
   ]
  },
  {
   "cell_type": "code",
   "execution_count": 13,
   "id": "556eca44-bd51-4412-9740-586027f9a7b4",
   "metadata": {},
   "outputs": [
    {
     "name": "stdout",
     "output_type": "stream",
     "text": [
      "2525\n"
     ]
    }
   ],
   "source": [
    "reader = open('data/jekyll.txt')\n",
    "\n",
    "lines = reader.readlines()\n",
    "print(len(lines))"
   ]
  },
  {
   "cell_type": "markdown",
   "id": "ebc3fb81-0a29-4a48-a291-75a2090bd46f",
   "metadata": {},
   "source": [
    "**NUMBER OF WORDS**"
   ]
  },
  {
   "cell_type": "markdown",
   "id": "a036e6ab-30b9-4e18-94ee-86c0f9d59fab",
   "metadata": {},
   "source": [
    "The ```split()``` method."
   ]
  },
  {
   "cell_type": "code",
   "execution_count": 17,
   "id": "59e27e66-158b-4c8e-89a1-a3724d0e3110",
   "metadata": {},
   "outputs": [
    {
     "name": "stdout",
     "output_type": "stream",
     "text": [
      "['Poor', 'Harry', 'Jekyll!']\n",
      "3\n"
     ]
    }
   ],
   "source": [
    "tekst = \"Poor Harry Jekyll!\"\n",
    "\n",
    "word_list = tekst.split()\n",
    "\n",
    "print(word_list)\n",
    "print(len(word_list))"
   ]
  },
  {
   "cell_type": "markdown",
   "id": "25193b61-d459-49ca-982d-2bd1ac1400bf",
   "metadata": {},
   "source": [
    "COUNTING NUMBER OF WORDS"
   ]
  },
  {
   "cell_type": "code",
   "execution_count": 20,
   "id": "48c5e07c-e65c-4f18-9c41-d9521069d32a",
   "metadata": {},
   "outputs": [
    {
     "name": "stdout",
     "output_type": "stream",
     "text": [
      "25585\n"
     ]
    }
   ],
   "source": [
    "reader = open('data/jekyll.txt')\n",
    "\n",
    "count = 0\n",
    "for line in reader:\n",
    "    count += len(line.split())\n",
    "print(count)"
   ]
  },
  {
   "cell_type": "markdown",
   "id": "337f21ba-640a-40a5-998f-2b02105bbf86",
   "metadata": {},
   "source": [
    "# Lesson 2: Using dictionaries"
   ]
  },
  {
   "cell_type": "markdown",
   "id": "495c634e-5d1a-4a6f-b302-27e67a599b05",
   "metadata": {},
   "source": [
    "Predictive text works by calculating which word id most likey to come next. To do that, it helps to know how frequentlu different words appear. \n",
    "\n",
    "Dictionary: data structure that **maps keys to values**."
   ]
  },
  {
   "cell_type": "code",
   "execution_count": 22,
   "id": "d41db947-ff4e-46c5-b132-f86070d413b5",
   "metadata": {},
   "outputs": [
    {
     "name": "stdout",
     "output_type": "stream",
     "text": [
      "{'strange': 'Odd or unusuall', 'case': 'A situation requiring investigation', 'Dr.': 'Abbreviattion for Doctor.'}\n"
     ]
    }
   ],
   "source": [
    "word_dict = {}\n",
    "word_dict['strange'] = \"Odd or unusuall\"\n",
    "word_dict['case'] = 'A situation requiring investigation'\n",
    "word_dict['Dr.'] = 'Abbreviattion for Doctor.'\n",
    "\n",
    "print(word_dict)"
   ]
  },
  {
   "cell_type": "markdown",
   "id": "e0986832-127b-437a-b2cf-6168dd94928a",
   "metadata": {},
   "source": [
    "\n",
    "A dictionary item: \n",
    "\n",
    "\n",
    "key : value\n"
   ]
  },
  {
   "cell_type": "markdown",
   "id": "0d6d63ce-bf97-4e22-ba8c-beb652ff0b6a",
   "metadata": {},
   "source": [
    "```frequency_dict``` stories the number of time each word appears in a line of text from the book."
   ]
  },
  {
   "cell_type": "code",
   "execution_count": 51,
   "id": "f3fe3890-4411-48db-bf75-6fdd19b71013",
   "metadata": {},
   "outputs": [],
   "source": [
    "def make_dict(ln):\n",
    "    dct = {}\n",
    "    for w in ln.split():\n",
    "        if w in dct:\n",
    "            dct[w] += 1\n",
    "        else:\n",
    "            dct[w] = 1\n",
    "    return dct"
   ]
  },
  {
   "cell_type": "code",
   "execution_count": 52,
   "id": "fff1b100-248a-402f-931c-aea2f59d39e8",
   "metadata": {},
   "outputs": [
    {
     "name": "stdout",
     "output_type": "stream",
     "text": [
      "{'city:': 1, 'then': 2, 'of': 3, 'the': 1, 'figure': 1, 'a': 2, 'man': 1, 'walking': 1, 'swiftly;': 1, 'child': 1}\n"
     ]
    }
   ],
   "source": [
    "line = \"city: then of the figure of a man walking swiftly; then of a child\"\n",
    "\n",
    "frequency_dict = make_dict(line)\n",
    "print(frequency_dict)"
   ]
  },
  {
   "cell_type": "markdown",
   "id": "be275927-e1d8-42da-8a72-aba2344ecf4e",
   "metadata": {},
   "source": [
    "Number of items in the dictionary -> the \"lengty of the dictionary\"; number of kesys and number of values"
   ]
  },
  {
   "cell_type": "code",
   "execution_count": 53,
   "id": "31abdcd0-3982-4b09-925a-9ffa13d3322f",
   "metadata": {},
   "outputs": [
    {
     "data": {
      "text/plain": [
       "10"
      ]
     },
     "execution_count": 53,
     "metadata": {},
     "output_type": "execute_result"
    }
   ],
   "source": [
    "# number of unique words!\n",
    "len(frequency_dict)"
   ]
  },
  {
   "cell_type": "code",
   "execution_count": 54,
   "id": "5a57a748-4c38-4cd9-b936-a60d6d1dabf7",
   "metadata": {},
   "outputs": [
    {
     "data": {
      "text/plain": [
       "3"
      ]
     },
     "execution_count": 54,
     "metadata": {},
     "output_type": "execute_result"
    }
   ],
   "source": [
    "# we can check how many times a specific word appears in the dictionary\n",
    "frequency_dict['of']"
   ]
  },
  {
   "cell_type": "markdown",
   "id": "7b530c8a-f2b6-49de-94a1-6a9e187e5f34",
   "metadata": {},
   "source": [
    "If the key is not int he dictionary, the program produces a ```KeyError```"
   ]
  },
  {
   "cell_type": "code",
   "execution_count": 55,
   "id": "20c2a510-424a-4246-9438-b9732ff47176",
   "metadata": {},
   "outputs": [
    {
     "ename": "KeyError",
     "evalue": "'improbable'",
     "output_type": "error",
     "traceback": [
      "\u001b[0;31m---------------------------------------------------------------------------\u001b[0m",
      "\u001b[0;31mKeyError\u001b[0m                                  Traceback (most recent call last)",
      "Cell \u001b[0;32mIn[55], line 1\u001b[0m\n\u001b[0;32m----> 1\u001b[0m \u001b[43mfrequency_dict\u001b[49m\u001b[43m[\u001b[49m\u001b[38;5;124;43m\"\u001b[39;49m\u001b[38;5;124;43mimprobable\u001b[39;49m\u001b[38;5;124;43m\"\u001b[39;49m\u001b[43m]\u001b[49m\n",
      "\u001b[0;31mKeyError\u001b[0m: 'improbable'"
     ]
    }
   ],
   "source": [
    "frequency_dict[\"improbable\"]"
   ]
  },
  {
   "cell_type": "markdown",
   "id": "d2fd0e1b-3240-4bea-8833-6bfe131fe6a3",
   "metadata": {},
   "source": [
    "DIVISION THE STRING INTO A LIST OF WORDS"
   ]
  },
  {
   "cell_type": "code",
   "execution_count": 60,
   "id": "d700f3b9-9e14-4844-8748-cb67e3bc4054",
   "metadata": {},
   "outputs": [
    {
     "name": "stdout",
     "output_type": "stream",
     "text": [
      "{'city;': 1, 'then': 2, 'of': 3, 'the': 1, 'figure': 1, 'a': 2, 'man': 1, 'walking': 1, 'swiftly;': 1, 'child': 1}\n"
     ]
    }
   ],
   "source": [
    "line = \"city; then of the figure of a man walking swiftly; then of a child\"\n",
    "\n",
    "word_list = line.split()\n",
    "frequency_dict = {}\n",
    "\n",
    "for word in word_list:\n",
    "    if word in frequency_dict:\n",
    "        frequency_dict[word] += 1\n",
    "    else:\n",
    "        frequency_dict[word] = 1\n",
    "\n",
    "print(frequency_dict)"
   ]
  },
  {
   "cell_type": "markdown",
   "id": "1a711772-3bac-45c1-a531-7f08c149dc67",
   "metadata": {},
   "source": [
    "Let's find out how often each word appears in the whole book."
   ]
  },
  {
   "cell_type": "code",
   "execution_count": 66,
   "id": "ebdb6e2a-51d7-4aec-860b-1b3e9c996886",
   "metadata": {},
   "outputs": [
    {
     "name": "stdout",
     "output_type": "stream",
     "text": [
      "1\n"
     ]
    }
   ],
   "source": [
    "reader = open('data/jekyll.txt')\n",
    "\n",
    "frequency_dict = {}\n",
    "\n",
    "for line in reader:\n",
    "    for word in line.split():\n",
    "        if word in frequency_dict:\n",
    "            frequency_dict[word] += 1\n",
    "        else:\n",
    "            frequency_dict[word] = 1\n",
    "print(frequency_dict[\"premonitory\"])"
   ]
  },
  {
   "cell_type": "markdown",
   "id": "8ac0ccce-5501-4002-bdf4-080416c0c737",
   "metadata": {},
   "source": [
    "# Lesson  3"
   ]
  },
  {
   "cell_type": "code",
   "execution_count": null,
   "id": "7d5779fc-514b-4488-baf8-d22f0c8b38c7",
   "metadata": {},
   "outputs": [],
   "source": []
  }
 ],
 "metadata": {
  "kernelspec": {
   "display_name": "py38",
   "language": "python",
   "name": "py38"
  },
  "language_info": {
   "codemirror_mode": {
    "name": "ipython",
    "version": 3
   },
   "file_extension": ".py",
   "mimetype": "text/x-python",
   "name": "python",
   "nbconvert_exporter": "python",
   "pygments_lexer": "ipython3",
   "version": "3.8.12"
  }
 },
 "nbformat": 4,
 "nbformat_minor": 5
}
