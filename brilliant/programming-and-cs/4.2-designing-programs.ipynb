{
 "cells": [
  {
   "cell_type": "markdown",
   "id": "a5ac9044-3745-446a-aa63-3abe74c614f6",
   "metadata": {},
   "source": [
    "# Lesson 1: Programming a game"
   ]
  },
  {
   "cell_type": "markdown",
   "id": "6937c56e-37fc-460a-bc12-bef05d8cf9c0",
   "metadata": {},
   "source": [
    "In this course, we'll learn what's involved in designing and building programs by coding a well-known game."
   ]
  },
  {
   "cell_type": "code",
   "execution_count": null,
   "id": "02240554-295e-4033-8479-28e2ad828b5c",
   "metadata": {},
   "outputs": [],
   "source": []
  }
 ],
 "metadata": {
  "kernelspec": {
   "display_name": "py38",
   "language": "python",
   "name": "py38"
  },
  "language_info": {
   "codemirror_mode": {
    "name": "ipython",
    "version": 3
   },
   "file_extension": ".py",
   "mimetype": "text/x-python",
   "name": "python",
   "nbconvert_exporter": "python",
   "pygments_lexer": "ipython3",
   "version": "3.8.12"
  }
 },
 "nbformat": 4,
 "nbformat_minor": 5
}
