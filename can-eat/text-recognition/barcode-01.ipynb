{
 "cells": [
  {
   "cell_type": "markdown",
   "metadata": {},
   "source": [
    "# Rozpoznawanie kodu kreskoewgo - biblioteka pyzbar\n",
    "\n",
    "C: 2025.02.10 <br>\n",
    "M: 2025.02.10\n",
    "\n",
    "\n",
    "Copyright (c) 2025 Marek Kocinski"
   ]
  },
  {
   "cell_type": "code",
   "execution_count": 5,
   "metadata": {},
   "outputs": [],
   "source": [
    "from pyzbar.pyzbar import decode\n",
    "import cv2\n",
    "import numpy as np\n",
    "from pathlib import Path"
   ]
  },
  {
   "cell_type": "code",
   "execution_count": 4,
   "metadata": {},
   "outputs": [],
   "source": [
    "def barcode_decoder(image):\n",
    "    \"\"\"\n",
    "    Dekoduje kod kreskowy z obrazu\n",
    "    \n",
    "    Args:\n",
    "        image: Obraz w formacie numpy array (cv2/PIL)\n",
    "        \n",
    "    Returns:\n",
    "        str: Zdekodowany kod kreskowy lub None w przypadku błędu\n",
    "    \"\"\"\n",
    "    try:\n",
    "        # Sprawdzenie czy obraz jest prawidłowy\n",
    "        if image is None or not isinstance(image, np.ndarray):\n",
    "            raise ValueError(\"Invalid image input\")\n",
    "\n",
    "        # Konwersja do skali szarości jeśli obraz jest kolorowy\n",
    "        if len(image.shape) == 3:\n",
    "            gray = cv2.cvtColor(image, cv2.COLOR_BGR2GRAY)\n",
    "        else:\n",
    "            gray = image\n",
    "\n",
    "        # Próba dekodowania\n",
    "        decoded_objects = decode(gray)\n",
    "        \n",
    "        # Sprawdzenie czy cokolwiek zostało zdekodowane\n",
    "        if decoded_objects:\n",
    "            # Zwracamy pierwszy znaleziony kod\n",
    "            barcode = decoded_objects[0].data.decode('utf-8')\n",
    "            return barcode\n",
    "        else:\n",
    "            return None\n",
    "\n",
    "    except Exception as e:\n",
    "        print(f\"Error during barcode decoding: {str(e)}\")\n",
    "        return None\n"
   ]
  },
  {
   "cell_type": "code",
   "execution_count": 11,
   "metadata": {},
   "outputs": [
    {
     "data": {
      "text/plain": [
       "True"
      ]
     },
     "execution_count": 11,
     "metadata": {},
     "output_type": "execute_result"
    }
   ],
   "source": [
    "from sympy import im\n",
    "\n",
    "\n",
    "current_dir = Path.cwd()\n",
    "imgs = current_dir.parent / 'produkty'\n",
    "img = imgs / 'IMG_4375.JPEG'\n",
    "img.exists()"
   ]
  },
  {
   "cell_type": "code",
   "execution_count": 15,
   "metadata": {},
   "outputs": [],
   "source": [
    "import matplotlib.pyplot as plt"
   ]
  },
  {
   "cell_type": "code",
   "execution_count": 22,
   "metadata": {},
   "outputs": [
    {
     "name": "stdout",
     "output_type": "stream",
     "text": [
      "IMG_4389.JPEG - Decoded barcode: 7039010082402\n",
      "IMG_4382.JPEG - Decoded barcode: http://campodelorca.com/\n",
      "IMG_4392.JPEG - Decoded barcode: 7023026089302\n",
      "IMG_4381.JPEG -No barcode found\n",
      "IMG_4390.JPEG -No barcode found\n",
      "IMG_4385.JPEG - Decoded barcode: 7039010082792\n",
      "IMG_4376.JPEG - Decoded barcode: https://polan.pl/en/recipes\n",
      "IMG_4383.JPEG - Decoded barcode: 7038010001642\n",
      "IMG_4391.JPEG - Decoded barcode: 7032069732007\n",
      "7048840005468.JPEG - Decoded barcode: 7048840005468\n",
      "IMG_4375.JPEG - Decoded barcode: 7038010054488\n",
      "IMG_4379.JPEG - Decoded barcode: 4002359021367\n",
      "IMG_4377.JPEG - Decoded barcode: https://polan.pl/en/recipes\n",
      "IMG_4387.JPEG - Decoded barcode: 7032069719510\n",
      "IMG_4380.JPEG -No barcode found\n",
      "IMG_4388.JPEG - Decoded barcode: 8437009466728\n",
      "IMG_4384.JPEG - Decoded barcode: 7039010082426\n"
     ]
    }
   ],
   "source": [
    "for img in imgs.glob(\"*.JPEG\"):\n",
    "    try:\n",
    "        image = cv2.imread(str(img))\n",
    "        if image is None:\n",
    "            \n",
    "            raise ValueError(\"Could not read the image\")\n",
    "\n",
    "        # Dekodowanie kodu kreskowego\n",
    "        barcode = barcode_decoder(image)\n",
    "        \n",
    "        if barcode:\n",
    "            print(f\"{img.name} - Decoded barcode: {barcode}\")\n",
    "        else:\n",
    "            print(f\"{img.name} -No barcode found\")\n",
    "\n",
    "    except Exception as e:\n",
    "        print(f\"Error: {str(e)}\")"
   ]
  },
  {
   "cell_type": "code",
   "execution_count": 33,
   "metadata": {},
   "outputs": [],
   "source": [
    "import pytesseract\n",
    "def ocr_barcode_reader(image1):\n",
    "    # Przygotowanie obrazu specjalnie pod OCR\n",
    "    image = cv2.imread(image1)\n",
    "    gray = cv2.cvtColor(image, cv2.COLOR_BGR2GRAY)\n",
    "    thresh = cv2.threshold(gray, 0, 255, cv2.THRESH_BINARY + cv2.THRESH_OTSU)[1]\n",
    "    \n",
    "    # Użycie OCR\n",
    "    text = pytesseract.image_to_string(thresh, config='--psm 6 digits')\n",
    "    # Oczyszczenie wyniku\n",
    "    barcode = ''.join(filter(str.isdigit, text))\n",
    "    return barcode"
   ]
  },
  {
   "cell_type": "code",
   "execution_count": 34,
   "metadata": {},
   "outputs": [
    {
     "name": "stdout",
     "output_type": "stream",
     "text": [
      "IMG_4389.JPEG - OCR barcode: 30174621368150085828392454840533703901008240208003300571114114908\n",
      "IMG_4382.JPEG - OCR barcode: 4343402508111462640004525022004428374227\n",
      "IMG_4392.JPEG - OCR barcode: 013725840281110704534100910028806147930409093093399651702302608930257712\n",
      "IMG_4381.JPEG - OCR barcode: 710091045060180990424955111125139149000679075913484002000484002000832172\n",
      "IMG_4390.JPEG - OCR barcode: 944342208779000424743\n",
      "IMG_4385.JPEG - OCR barcode: 43909097182206279234703901008279212841745306\n",
      "IMG_4376.JPEG - OCR barcode: 47040090702400194000805324084886000058256398989800983094590100837\n",
      "IMG_4383.JPEG - OCR barcode: 25094410094277206947936900901514120502057911159871191599714516911404564092414014047147709010\n",
      "IMG_4391.JPEG - OCR barcode: 464544431401000126426060504703206973200753945\n",
      "7048840005468.JPEG - OCR barcode: 1700928355384401003037227904800918997590971980030338449019130164041710710488400054681000\n",
      "IMG_4375.JPEG - OCR barcode: 422014708701\n",
      "IMG_4379.JPEG - OCR barcode: 7240095004590970134\n",
      "IMG_4377.JPEG - OCR barcode: 474771007491890710240047444708420045320044432553939398607510088093447\n",
      "IMG_4387.JPEG - OCR barcode: 3257225374523162946004232\n",
      "IMG_4380.JPEG - OCR barcode: 4147100260191880930419935016149241391430679075913984001200084002000483730\n",
      "IMG_4388.JPEG - OCR barcode: 51731151201491390911090900920420002373054126108220831501708816128477009\n",
      "IMG_4384.JPEG - OCR barcode: 720006056181048255813807590101082426033005\n"
     ]
    }
   ],
   "source": [
    "for img in imgs.glob(\"*.JPEG\"):\n",
    "    barcode = ocr_barcode_reader(img)\n",
    "    if barcode:\n",
    "        print(f\"{img.name} - OCR barcode: {barcode}\")\n",
    "    else:\n",
    "        print(f\"{img.name} - No barcode found\")\n"
   ]
  },
  {
   "cell_type": "code",
   "execution_count": null,
   "metadata": {},
   "outputs": [],
   "source": []
  }
 ],
 "metadata": {
  "kernelspec": {
   "display_name": "text-rec-py311",
   "language": "python",
   "name": "python3"
  },
  "language_info": {
   "codemirror_mode": {
    "name": "ipython",
    "version": 3
   },
   "file_extension": ".py",
   "mimetype": "text/x-python",
   "name": "python",
   "nbconvert_exporter": "python",
   "pygments_lexer": "ipython3",
   "version": "3.11.11"
  }
 },
 "nbformat": 4,
 "nbformat_minor": 2
}
